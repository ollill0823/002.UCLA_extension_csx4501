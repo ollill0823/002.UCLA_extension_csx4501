{
 "cells": [
  {
   "cell_type": "markdown",
   "id": "bb4f5554-efc9-460e-8254-995efb5f06ac",
   "metadata": {},
   "source": [
    "# Assignment 3"
   ]
  },
  {
   "cell_type": "markdown",
   "id": "77df600c-5f4a-4e18-bd2d-88551a4f1cc6",
   "metadata": {},
   "source": [
    "## Pandas and plotting exercises"
   ]
  },
  {
   "cell_type": "code",
   "execution_count": 6,
   "id": "f5e83735-8845-4afc-b79a-b0efe963d305",
   "metadata": {},
   "outputs": [],
   "source": [
    "# Import the pandas library\n",
    "import pandas as pd"
   ]
  },
  {
   "cell_type": "markdown",
   "id": "c4fe53d9-5776-45c6-b47d-9465a2888808",
   "metadata": {},
   "source": [
    "In Week 2, you used a dataset from the CORGIS website.  You may have used either the Python, CSV, or JSON data files.\n",
    "\n",
    "For this assignment, use the CSV file format for the same category of data that you used previously."
   ]
  },
  {
   "cell_type": "code",
   "execution_count": 12,
   "id": "c5850ef7-07fb-456c-9943-ba9e87cc0784",
   "metadata": {},
   "outputs": [],
   "source": [
    "# Use pandas read_csv function to import the data into a dataframe variable\n",
    "covid_df=pd.read_csv('covid.csv')"
   ]
  },
  {
   "cell_type": "code",
   "execution_count": 13,
   "id": "276b2e3f",
   "metadata": {},
   "outputs": [
    {
     "data": {
      "text/html": [
       "<div>\n",
       "<style scoped>\n",
       "    .dataframe tbody tr th:only-of-type {\n",
       "        vertical-align: middle;\n",
       "    }\n",
       "\n",
       "    .dataframe tbody tr th {\n",
       "        vertical-align: top;\n",
       "    }\n",
       "\n",
       "    .dataframe thead th {\n",
       "        text-align: right;\n",
       "    }\n",
       "</style>\n",
       "<table border=\"1\" class=\"dataframe\">\n",
       "  <thead>\n",
       "    <tr style=\"text-align: right;\">\n",
       "      <th></th>\n",
       "      <th>Date.Day</th>\n",
       "      <th>Date.Month</th>\n",
       "      <th>Date.Year</th>\n",
       "      <th>Data.Cases</th>\n",
       "      <th>Data.Deaths</th>\n",
       "      <th>Location.Country</th>\n",
       "      <th>Location.Code</th>\n",
       "      <th>Data.Population</th>\n",
       "      <th>Location.Continent</th>\n",
       "      <th>Data.Rate</th>\n",
       "    </tr>\n",
       "  </thead>\n",
       "  <tbody>\n",
       "    <tr>\n",
       "      <th>0</th>\n",
       "      <td>31</td>\n",
       "      <td>12</td>\n",
       "      <td>2019</td>\n",
       "      <td>0</td>\n",
       "      <td>0</td>\n",
       "      <td>Afghanistan</td>\n",
       "      <td>AFG</td>\n",
       "      <td>38041757</td>\n",
       "      <td>Asia</td>\n",
       "      <td>0.000000</td>\n",
       "    </tr>\n",
       "    <tr>\n",
       "      <th>1</th>\n",
       "      <td>31</td>\n",
       "      <td>12</td>\n",
       "      <td>2019</td>\n",
       "      <td>0</td>\n",
       "      <td>0</td>\n",
       "      <td>Algeria</td>\n",
       "      <td>DZA</td>\n",
       "      <td>43053054</td>\n",
       "      <td>Africa</td>\n",
       "      <td>0.000000</td>\n",
       "    </tr>\n",
       "    <tr>\n",
       "      <th>2</th>\n",
       "      <td>31</td>\n",
       "      <td>12</td>\n",
       "      <td>2019</td>\n",
       "      <td>0</td>\n",
       "      <td>0</td>\n",
       "      <td>Armenia</td>\n",
       "      <td>ARM</td>\n",
       "      <td>2957728</td>\n",
       "      <td>Europe</td>\n",
       "      <td>0.000000</td>\n",
       "    </tr>\n",
       "    <tr>\n",
       "      <th>3</th>\n",
       "      <td>31</td>\n",
       "      <td>12</td>\n",
       "      <td>2019</td>\n",
       "      <td>0</td>\n",
       "      <td>0</td>\n",
       "      <td>Australia</td>\n",
       "      <td>AUS</td>\n",
       "      <td>25203200</td>\n",
       "      <td>Oceania</td>\n",
       "      <td>0.000000</td>\n",
       "    </tr>\n",
       "    <tr>\n",
       "      <th>4</th>\n",
       "      <td>31</td>\n",
       "      <td>12</td>\n",
       "      <td>2019</td>\n",
       "      <td>0</td>\n",
       "      <td>0</td>\n",
       "      <td>Austria</td>\n",
       "      <td>AUT</td>\n",
       "      <td>8858775</td>\n",
       "      <td>Europe</td>\n",
       "      <td>0.000000</td>\n",
       "    </tr>\n",
       "    <tr>\n",
       "      <th>...</th>\n",
       "      <td>...</td>\n",
       "      <td>...</td>\n",
       "      <td>...</td>\n",
       "      <td>...</td>\n",
       "      <td>...</td>\n",
       "      <td>...</td>\n",
       "      <td>...</td>\n",
       "      <td>...</td>\n",
       "      <td>...</td>\n",
       "      <td>...</td>\n",
       "    </tr>\n",
       "    <tr>\n",
       "      <th>53624</th>\n",
       "      <td>10</td>\n",
       "      <td>12</td>\n",
       "      <td>2020</td>\n",
       "      <td>202</td>\n",
       "      <td>16</td>\n",
       "      <td>Afghanistan</td>\n",
       "      <td>AFG</td>\n",
       "      <td>38041757</td>\n",
       "      <td>Asia</td>\n",
       "      <td>6.968658</td>\n",
       "    </tr>\n",
       "    <tr>\n",
       "      <th>53625</th>\n",
       "      <td>11</td>\n",
       "      <td>12</td>\n",
       "      <td>2020</td>\n",
       "      <td>63</td>\n",
       "      <td>10</td>\n",
       "      <td>Afghanistan</td>\n",
       "      <td>AFG</td>\n",
       "      <td>38041757</td>\n",
       "      <td>Asia</td>\n",
       "      <td>7.134266</td>\n",
       "    </tr>\n",
       "    <tr>\n",
       "      <th>53626</th>\n",
       "      <td>12</td>\n",
       "      <td>12</td>\n",
       "      <td>2020</td>\n",
       "      <td>113</td>\n",
       "      <td>11</td>\n",
       "      <td>Afghanistan</td>\n",
       "      <td>AFG</td>\n",
       "      <td>38041757</td>\n",
       "      <td>Asia</td>\n",
       "      <td>6.868768</td>\n",
       "    </tr>\n",
       "    <tr>\n",
       "      <th>53627</th>\n",
       "      <td>13</td>\n",
       "      <td>12</td>\n",
       "      <td>2020</td>\n",
       "      <td>298</td>\n",
       "      <td>9</td>\n",
       "      <td>Afghanistan</td>\n",
       "      <td>AFG</td>\n",
       "      <td>38041757</td>\n",
       "      <td>Asia</td>\n",
       "      <td>7.052776</td>\n",
       "    </tr>\n",
       "    <tr>\n",
       "      <th>53628</th>\n",
       "      <td>14</td>\n",
       "      <td>12</td>\n",
       "      <td>2020</td>\n",
       "      <td>746</td>\n",
       "      <td>6</td>\n",
       "      <td>Afghanistan</td>\n",
       "      <td>AFG</td>\n",
       "      <td>38041757</td>\n",
       "      <td>Asia</td>\n",
       "      <td>9.013779</td>\n",
       "    </tr>\n",
       "  </tbody>\n",
       "</table>\n",
       "<p>53629 rows × 10 columns</p>\n",
       "</div>"
      ],
      "text/plain": [
       "       Date.Day  Date.Month  Date.Year  Data.Cases  Data.Deaths  \\\n",
       "0            31          12       2019           0            0   \n",
       "1            31          12       2019           0            0   \n",
       "2            31          12       2019           0            0   \n",
       "3            31          12       2019           0            0   \n",
       "4            31          12       2019           0            0   \n",
       "...         ...         ...        ...         ...          ...   \n",
       "53624        10          12       2020         202           16   \n",
       "53625        11          12       2020          63           10   \n",
       "53626        12          12       2020         113           11   \n",
       "53627        13          12       2020         298            9   \n",
       "53628        14          12       2020         746            6   \n",
       "\n",
       "      Location.Country Location.Code  Data.Population Location.Continent  \\\n",
       "0          Afghanistan           AFG         38041757               Asia   \n",
       "1              Algeria           DZA         43053054             Africa   \n",
       "2              Armenia           ARM          2957728             Europe   \n",
       "3            Australia           AUS         25203200            Oceania   \n",
       "4              Austria           AUT          8858775             Europe   \n",
       "...                ...           ...              ...                ...   \n",
       "53624      Afghanistan           AFG         38041757               Asia   \n",
       "53625      Afghanistan           AFG         38041757               Asia   \n",
       "53626      Afghanistan           AFG         38041757               Asia   \n",
       "53627      Afghanistan           AFG         38041757               Asia   \n",
       "53628      Afghanistan           AFG         38041757               Asia   \n",
       "\n",
       "       Data.Rate  \n",
       "0       0.000000  \n",
       "1       0.000000  \n",
       "2       0.000000  \n",
       "3       0.000000  \n",
       "4       0.000000  \n",
       "...          ...  \n",
       "53624   6.968658  \n",
       "53625   7.134266  \n",
       "53626   6.868768  \n",
       "53627   7.052776  \n",
       "53628   9.013779  \n",
       "\n",
       "[53629 rows x 10 columns]"
      ]
     },
     "execution_count": 13,
     "metadata": {},
     "output_type": "execute_result"
    }
   ],
   "source": [
    "covid_df"
   ]
  },
  {
   "cell_type": "markdown",
   "id": "66c430a7",
   "metadata": {},
   "source": [
    "### answer1"
   ]
  },
  {
   "cell_type": "code",
   "execution_count": 29,
   "id": "ab04825f-f9ba-49ae-bf40-322f4e2554a9",
   "metadata": {},
   "outputs": [
    {
     "name": "stdout",
     "output_type": "stream",
     "text": [
      "(rows, columns)= (53629, 10)\n"
     ]
    }
   ],
   "source": [
    "# How many rows and columns does the dataframe have?\n",
    "rows= len(covid_df)\n",
    "columns=len(covid_df.columns)\n",
    "print('(rows, columns)= '+ '(' + str(rows) + ', ' + str(columns)+')')"
   ]
  },
  {
   "cell_type": "markdown",
   "id": "260c25a1",
   "metadata": {},
   "source": [
    "### answer2"
   ]
  },
  {
   "cell_type": "code",
   "execution_count": 34,
   "id": "4064e0b4",
   "metadata": {
    "scrolled": true
   },
   "outputs": [
    {
     "data": {
      "text/plain": [
       "(53629, 10)"
      ]
     },
     "execution_count": 34,
     "metadata": {},
     "output_type": "execute_result"
    }
   ],
   "source": [
    "# How many rows and columns does the dataframe have?\n",
    "covid_df.shape"
   ]
  },
  {
   "cell_type": "code",
   "execution_count": 30,
   "id": "e20a45fc-dfc0-4559-977b-d2b86e2f6534",
   "metadata": {},
   "outputs": [
    {
     "data": {
      "text/plain": [
       "Index(['Date.Day', 'Date.Month', 'Date.Year', 'Data.Cases', 'Data.Deaths',\n",
       "       'Location.Country', 'Location.Code', 'Data.Population',\n",
       "       'Location.Continent', 'Data.Rate'],\n",
       "      dtype='object')"
      ]
     },
     "execution_count": 30,
     "metadata": {},
     "output_type": "execute_result"
    }
   ],
   "source": [
    "# What are the column names of the dataframe?\n",
    "covid_df.columns"
   ]
  },
  {
   "cell_type": "code",
   "execution_count": 36,
   "id": "7a549f96-8e8e-456a-a219-096dcddb1fb8",
   "metadata": {},
   "outputs": [
    {
     "data": {
      "text/plain": [
       "Date.Day                int64\n",
       "Date.Month              int64\n",
       "Date.Year               int64\n",
       "Data.Cases              int64\n",
       "Data.Deaths             int64\n",
       "Location.Country       object\n",
       "Location.Code          object\n",
       "Data.Population         int64\n",
       "Location.Continent     object\n",
       "Data.Rate             float64\n",
       "dtype: object"
      ]
     },
     "execution_count": 36,
     "metadata": {},
     "output_type": "execute_result"
    }
   ],
   "source": [
    "# What are the datatypes of each column?\n",
    "covid_df.dtypes"
   ]
  },
  {
   "cell_type": "code",
   "execution_count": 37,
   "id": "51471321-443e-4b23-846e-54630d29af29",
   "metadata": {},
   "outputs": [
    {
     "data": {
      "text/html": [
       "<div>\n",
       "<style scoped>\n",
       "    .dataframe tbody tr th:only-of-type {\n",
       "        vertical-align: middle;\n",
       "    }\n",
       "\n",
       "    .dataframe tbody tr th {\n",
       "        vertical-align: top;\n",
       "    }\n",
       "\n",
       "    .dataframe thead th {\n",
       "        text-align: right;\n",
       "    }\n",
       "</style>\n",
       "<table border=\"1\" class=\"dataframe\">\n",
       "  <thead>\n",
       "    <tr style=\"text-align: right;\">\n",
       "      <th></th>\n",
       "      <th>Date.Day</th>\n",
       "      <th>Date.Month</th>\n",
       "      <th>Date.Year</th>\n",
       "      <th>Data.Cases</th>\n",
       "      <th>Data.Deaths</th>\n",
       "      <th>Location.Country</th>\n",
       "      <th>Location.Code</th>\n",
       "      <th>Data.Population</th>\n",
       "      <th>Location.Continent</th>\n",
       "      <th>Data.Rate</th>\n",
       "    </tr>\n",
       "  </thead>\n",
       "  <tbody>\n",
       "    <tr>\n",
       "      <th>0</th>\n",
       "      <td>31</td>\n",
       "      <td>12</td>\n",
       "      <td>2019</td>\n",
       "      <td>0</td>\n",
       "      <td>0</td>\n",
       "      <td>Afghanistan</td>\n",
       "      <td>AFG</td>\n",
       "      <td>38041757</td>\n",
       "      <td>Asia</td>\n",
       "      <td>0.0</td>\n",
       "    </tr>\n",
       "    <tr>\n",
       "      <th>1</th>\n",
       "      <td>31</td>\n",
       "      <td>12</td>\n",
       "      <td>2019</td>\n",
       "      <td>0</td>\n",
       "      <td>0</td>\n",
       "      <td>Algeria</td>\n",
       "      <td>DZA</td>\n",
       "      <td>43053054</td>\n",
       "      <td>Africa</td>\n",
       "      <td>0.0</td>\n",
       "    </tr>\n",
       "  </tbody>\n",
       "</table>\n",
       "</div>"
      ],
      "text/plain": [
       "   Date.Day  Date.Month  Date.Year  Data.Cases  Data.Deaths Location.Country  \\\n",
       "0        31          12       2019           0            0      Afghanistan   \n",
       "1        31          12       2019           0            0          Algeria   \n",
       "\n",
       "  Location.Code  Data.Population Location.Continent  Data.Rate  \n",
       "0           AFG         38041757               Asia        0.0  \n",
       "1           DZA         43053054             Africa        0.0  "
      ]
     },
     "execution_count": 37,
     "metadata": {},
     "output_type": "execute_result"
    }
   ],
   "source": [
    "# Look at the first 2 rows of the dataframe\n",
    "covid_df[0:2]"
   ]
  },
  {
   "cell_type": "code",
   "execution_count": 39,
   "id": "f0206392-0e77-497c-8394-ad3e229a83ab",
   "metadata": {},
   "outputs": [
    {
     "data": {
      "text/html": [
       "<div>\n",
       "<style scoped>\n",
       "    .dataframe tbody tr th:only-of-type {\n",
       "        vertical-align: middle;\n",
       "    }\n",
       "\n",
       "    .dataframe tbody tr th {\n",
       "        vertical-align: top;\n",
       "    }\n",
       "\n",
       "    .dataframe thead th {\n",
       "        text-align: right;\n",
       "    }\n",
       "</style>\n",
       "<table border=\"1\" class=\"dataframe\">\n",
       "  <thead>\n",
       "    <tr style=\"text-align: right;\">\n",
       "      <th></th>\n",
       "      <th>Date.Day</th>\n",
       "      <th>Date.Month</th>\n",
       "      <th>Date.Year</th>\n",
       "      <th>Data.Cases</th>\n",
       "      <th>Data.Deaths</th>\n",
       "      <th>Location.Country</th>\n",
       "      <th>Location.Code</th>\n",
       "      <th>Data.Population</th>\n",
       "      <th>Location.Continent</th>\n",
       "      <th>Data.Rate</th>\n",
       "    </tr>\n",
       "  </thead>\n",
       "  <tbody>\n",
       "    <tr>\n",
       "      <th>53627</th>\n",
       "      <td>13</td>\n",
       "      <td>12</td>\n",
       "      <td>2020</td>\n",
       "      <td>298</td>\n",
       "      <td>9</td>\n",
       "      <td>Afghanistan</td>\n",
       "      <td>AFG</td>\n",
       "      <td>38041757</td>\n",
       "      <td>Asia</td>\n",
       "      <td>7.052776</td>\n",
       "    </tr>\n",
       "    <tr>\n",
       "      <th>53628</th>\n",
       "      <td>14</td>\n",
       "      <td>12</td>\n",
       "      <td>2020</td>\n",
       "      <td>746</td>\n",
       "      <td>6</td>\n",
       "      <td>Afghanistan</td>\n",
       "      <td>AFG</td>\n",
       "      <td>38041757</td>\n",
       "      <td>Asia</td>\n",
       "      <td>9.013779</td>\n",
       "    </tr>\n",
       "  </tbody>\n",
       "</table>\n",
       "</div>"
      ],
      "text/plain": [
       "       Date.Day  Date.Month  Date.Year  Data.Cases  Data.Deaths  \\\n",
       "53627        13          12       2020         298            9   \n",
       "53628        14          12       2020         746            6   \n",
       "\n",
       "      Location.Country Location.Code  Data.Population Location.Continent  \\\n",
       "53627      Afghanistan           AFG         38041757               Asia   \n",
       "53628      Afghanistan           AFG         38041757               Asia   \n",
       "\n",
       "       Data.Rate  \n",
       "53627   7.052776  \n",
       "53628   9.013779  "
      ]
     },
     "execution_count": 39,
     "metadata": {},
     "output_type": "execute_result"
    }
   ],
   "source": [
    "# Look at the last 2 rows of the dataframe\n",
    "covid_df.tail(2)"
   ]
  },
  {
   "cell_type": "code",
   "execution_count": 40,
   "id": "e87824ad-9ff4-487d-8506-00d940083ae0",
   "metadata": {},
   "outputs": [
    {
     "data": {
      "text/html": [
       "<div>\n",
       "<style scoped>\n",
       "    .dataframe tbody tr th:only-of-type {\n",
       "        vertical-align: middle;\n",
       "    }\n",
       "\n",
       "    .dataframe tbody tr th {\n",
       "        vertical-align: top;\n",
       "    }\n",
       "\n",
       "    .dataframe thead th {\n",
       "        text-align: right;\n",
       "    }\n",
       "</style>\n",
       "<table border=\"1\" class=\"dataframe\">\n",
       "  <thead>\n",
       "    <tr style=\"text-align: right;\">\n",
       "      <th></th>\n",
       "      <th>Date.Day</th>\n",
       "      <th>Date.Month</th>\n",
       "      <th>Date.Year</th>\n",
       "      <th>Data.Cases</th>\n",
       "      <th>Data.Deaths</th>\n",
       "      <th>Data.Population</th>\n",
       "      <th>Data.Rate</th>\n",
       "    </tr>\n",
       "  </thead>\n",
       "  <tbody>\n",
       "    <tr>\n",
       "      <th>count</th>\n",
       "      <td>53629.000000</td>\n",
       "      <td>53629.000000</td>\n",
       "      <td>53629.000000</td>\n",
       "      <td>53629.000000</td>\n",
       "      <td>53629.000000</td>\n",
       "      <td>5.362900e+04</td>\n",
       "      <td>53629.000000</td>\n",
       "    </tr>\n",
       "    <tr>\n",
       "      <th>mean</th>\n",
       "      <td>15.845009</td>\n",
       "      <td>6.406776</td>\n",
       "      <td>2019.998751</td>\n",
       "      <td>898.374033</td>\n",
       "      <td>22.873035</td>\n",
       "      <td>4.164579e+07</td>\n",
       "      <td>44.382863</td>\n",
       "    </tr>\n",
       "    <tr>\n",
       "      <th>std</th>\n",
       "      <td>8.940220</td>\n",
       "      <td>2.600373</td>\n",
       "      <td>0.035324</td>\n",
       "      <td>5019.868017</td>\n",
       "      <td>124.259355</td>\n",
       "      <td>1.548019e+08</td>\n",
       "      <td>113.147610</td>\n",
       "    </tr>\n",
       "    <tr>\n",
       "      <th>min</th>\n",
       "      <td>1.000000</td>\n",
       "      <td>1.000000</td>\n",
       "      <td>2019.000000</td>\n",
       "      <td>-8261.000000</td>\n",
       "      <td>-1918.000000</td>\n",
       "      <td>-1.000000e+00</td>\n",
       "      <td>-147.419587</td>\n",
       "    </tr>\n",
       "    <tr>\n",
       "      <th>25%</th>\n",
       "      <td>8.000000</td>\n",
       "      <td>4.000000</td>\n",
       "      <td>2020.000000</td>\n",
       "      <td>0.000000</td>\n",
       "      <td>0.000000</td>\n",
       "      <td>1.324820e+06</td>\n",
       "      <td>0.269203</td>\n",
       "    </tr>\n",
       "    <tr>\n",
       "      <th>50%</th>\n",
       "      <td>16.000000</td>\n",
       "      <td>7.000000</td>\n",
       "      <td>2020.000000</td>\n",
       "      <td>13.000000</td>\n",
       "      <td>0.000000</td>\n",
       "      <td>7.813207e+06</td>\n",
       "      <td>4.652782</td>\n",
       "    </tr>\n",
       "    <tr>\n",
       "      <th>75%</th>\n",
       "      <td>24.000000</td>\n",
       "      <td>9.000000</td>\n",
       "      <td>2020.000000</td>\n",
       "      <td>206.000000</td>\n",
       "      <td>3.000000</td>\n",
       "      <td>2.860872e+07</td>\n",
       "      <td>34.905448</td>\n",
       "    </tr>\n",
       "    <tr>\n",
       "      <th>max</th>\n",
       "      <td>31.000000</td>\n",
       "      <td>12.000000</td>\n",
       "      <td>2020.000000</td>\n",
       "      <td>102507.000000</td>\n",
       "      <td>4928.000000</td>\n",
       "      <td>1.433784e+09</td>\n",
       "      <td>1900.836210</td>\n",
       "    </tr>\n",
       "  </tbody>\n",
       "</table>\n",
       "</div>"
      ],
      "text/plain": [
       "           Date.Day    Date.Month     Date.Year     Data.Cases   Data.Deaths  \\\n",
       "count  53629.000000  53629.000000  53629.000000   53629.000000  53629.000000   \n",
       "mean      15.845009      6.406776   2019.998751     898.374033     22.873035   \n",
       "std        8.940220      2.600373      0.035324    5019.868017    124.259355   \n",
       "min        1.000000      1.000000   2019.000000   -8261.000000  -1918.000000   \n",
       "25%        8.000000      4.000000   2020.000000       0.000000      0.000000   \n",
       "50%       16.000000      7.000000   2020.000000      13.000000      0.000000   \n",
       "75%       24.000000      9.000000   2020.000000     206.000000      3.000000   \n",
       "max       31.000000     12.000000   2020.000000  102507.000000   4928.000000   \n",
       "\n",
       "       Data.Population     Data.Rate  \n",
       "count     5.362900e+04  53629.000000  \n",
       "mean      4.164579e+07     44.382863  \n",
       "std       1.548019e+08    113.147610  \n",
       "min      -1.000000e+00   -147.419587  \n",
       "25%       1.324820e+06      0.269203  \n",
       "50%       7.813207e+06      4.652782  \n",
       "75%       2.860872e+07     34.905448  \n",
       "max       1.433784e+09   1900.836210  "
      ]
     },
     "execution_count": 40,
     "metadata": {},
     "output_type": "execute_result"
    }
   ],
   "source": [
    "# Print out summary statistics about the dataframe\n",
    "covid_df.describe()"
   ]
  },
  {
   "cell_type": "code",
   "execution_count": 41,
   "id": "9b5dfabd-61b3-4cda-80d4-7a20444afa25",
   "metadata": {},
   "outputs": [
    {
     "data": {
      "text/plain": [
       "0        Afghanistan\n",
       "1            Algeria\n",
       "2            Armenia\n",
       "3          Australia\n",
       "4            Austria\n",
       "            ...     \n",
       "53624    Afghanistan\n",
       "53625    Afghanistan\n",
       "53626    Afghanistan\n",
       "53627    Afghanistan\n",
       "53628    Afghanistan\n",
       "Name: Location.Country, Length: 53629, dtype: object"
      ]
     },
     "execution_count": 41,
     "metadata": {},
     "output_type": "execute_result"
    }
   ],
   "source": [
    "# Choose a column and print out the column (it's ok if the output is abbreviated)\n",
    "covid_df['Location.Country']"
   ]
  },
  {
   "cell_type": "code",
   "execution_count": 45,
   "id": "0c5e2c07-0dff-4e78-bbb7-8faef3fdf758",
   "metadata": {},
   "outputs": [
    {
     "data": {
      "text/plain": [
       "<AxesSubplot:>"
      ]
     },
     "execution_count": 45,
     "metadata": {},
     "output_type": "execute_result"
    },
    {
     "data": {
      "image/png": "[encoded data removed]",
      "text/plain": [
       "<Figure size 432x288 with 1 Axes>"
      ]
     },
     "metadata": {
      "needs_background": "light"
     },
     "output_type": "display_data"
    }
   ],
   "source": [
    "# Choose a column that has numeric values and make a line plot of the values\n",
    "covid_df['Data.Cases'].plot()\n"
   ]
  },
  {
   "cell_type": "markdown",
   "id": "c7c323fc",
   "metadata": {},
   "source": [
    "### answer1"
   ]
  },
  {
   "cell_type": "code",
   "execution_count": 72,
   "id": "6e7c7f92-3b6c-4cd0-a9ef-6356cb4c2ca5",
   "metadata": {},
   "outputs": [
    {
     "data": {
      "text/html": [
       "<div>\n",
       "<style scoped>\n",
       "    .dataframe tbody tr th:only-of-type {\n",
       "        vertical-align: middle;\n",
       "    }\n",
       "\n",
       "    .dataframe tbody tr th {\n",
       "        vertical-align: top;\n",
       "    }\n",
       "\n",
       "    .dataframe thead th {\n",
       "        text-align: right;\n",
       "    }\n",
       "</style>\n",
       "<table border=\"1\" class=\"dataframe\">\n",
       "  <thead>\n",
       "    <tr style=\"text-align: right;\">\n",
       "      <th></th>\n",
       "      <th>Data.Cases</th>\n",
       "    </tr>\n",
       "  </thead>\n",
       "  <tbody>\n",
       "    <tr>\n",
       "      <th>0</th>\n",
       "      <td>0</td>\n",
       "    </tr>\n",
       "    <tr>\n",
       "      <th>1</th>\n",
       "      <td>0</td>\n",
       "    </tr>\n",
       "    <tr>\n",
       "      <th>2</th>\n",
       "      <td>0</td>\n",
       "    </tr>\n",
       "    <tr>\n",
       "      <th>3</th>\n",
       "      <td>0</td>\n",
       "    </tr>\n",
       "    <tr>\n",
       "      <th>4</th>\n",
       "      <td>0</td>\n",
       "    </tr>\n",
       "    <tr>\n",
       "      <th>5</th>\n",
       "      <td>0</td>\n",
       "    </tr>\n",
       "    <tr>\n",
       "      <th>6</th>\n",
       "      <td>0</td>\n",
       "    </tr>\n",
       "    <tr>\n",
       "      <th>7</th>\n",
       "      <td>0</td>\n",
       "    </tr>\n",
       "    <tr>\n",
       "      <th>8</th>\n",
       "      <td>0</td>\n",
       "    </tr>\n",
       "    <tr>\n",
       "      <th>9</th>\n",
       "      <td>0</td>\n",
       "    </tr>\n",
       "    <tr>\n",
       "      <th>10</th>\n",
       "      <td>0</td>\n",
       "    </tr>\n",
       "  </tbody>\n",
       "</table>\n",
       "</div>"
      ],
      "text/plain": [
       "    Data.Cases\n",
       "0            0\n",
       "1            0\n",
       "2            0\n",
       "3            0\n",
       "4            0\n",
       "5            0\n",
       "6            0\n",
       "7            0\n",
       "8            0\n",
       "9            0\n",
       "10           0"
      ]
     },
     "execution_count": 72,
     "metadata": {},
     "output_type": "execute_result"
    }
   ],
   "source": [
    "# Use \"loc\" to print out the first 10 elements of the plotted column\n",
    "covid_df.loc[[0,1,2,3,4,5,6,7,8,9,10],['Data.Cases']]"
   ]
  },
  {
   "cell_type": "markdown",
   "id": "65e11c1d",
   "metadata": {},
   "source": [
    "### answer2"
   ]
  },
  {
   "cell_type": "code",
   "execution_count": 79,
   "id": "50a31b08",
   "metadata": {},
   "outputs": [
    {
     "data": {
      "text/html": [
       "<div>\n",
       "<style scoped>\n",
       "    .dataframe tbody tr th:only-of-type {\n",
       "        vertical-align: middle;\n",
       "    }\n",
       "\n",
       "    .dataframe tbody tr th {\n",
       "        vertical-align: top;\n",
       "    }\n",
       "\n",
       "    .dataframe thead th {\n",
       "        text-align: right;\n",
       "    }\n",
       "</style>\n",
       "<table border=\"1\" class=\"dataframe\">\n",
       "  <thead>\n",
       "    <tr style=\"text-align: right;\">\n",
       "      <th></th>\n",
       "      <th>Data.Deaths</th>\n",
       "    </tr>\n",
       "  </thead>\n",
       "  <tbody>\n",
       "    <tr>\n",
       "      <th>0</th>\n",
       "      <td>0</td>\n",
       "    </tr>\n",
       "    <tr>\n",
       "      <th>1</th>\n",
       "      <td>0</td>\n",
       "    </tr>\n",
       "    <tr>\n",
       "      <th>2</th>\n",
       "      <td>0</td>\n",
       "    </tr>\n",
       "    <tr>\n",
       "      <th>3</th>\n",
       "      <td>0</td>\n",
       "    </tr>\n",
       "    <tr>\n",
       "      <th>4</th>\n",
       "      <td>0</td>\n",
       "    </tr>\n",
       "    <tr>\n",
       "      <th>5</th>\n",
       "      <td>0</td>\n",
       "    </tr>\n",
       "    <tr>\n",
       "      <th>6</th>\n",
       "      <td>0</td>\n",
       "    </tr>\n",
       "    <tr>\n",
       "      <th>7</th>\n",
       "      <td>0</td>\n",
       "    </tr>\n",
       "    <tr>\n",
       "      <th>8</th>\n",
       "      <td>0</td>\n",
       "    </tr>\n",
       "    <tr>\n",
       "      <th>9</th>\n",
       "      <td>0</td>\n",
       "    </tr>\n",
       "    <tr>\n",
       "      <th>10</th>\n",
       "      <td>0</td>\n",
       "    </tr>\n",
       "  </tbody>\n",
       "</table>\n",
       "</div>"
      ],
      "text/plain": [
       "    Data.Deaths\n",
       "0             0\n",
       "1             0\n",
       "2             0\n",
       "3             0\n",
       "4             0\n",
       "5             0\n",
       "6             0\n",
       "7             0\n",
       "8             0\n",
       "9             0\n",
       "10            0"
      ]
     },
     "execution_count": 79,
     "metadata": {},
     "output_type": "execute_result"
    }
   ],
   "source": [
    "# Use \"loc\" to print out the first 10 elements of the plotted column\n",
    "covid_df.iloc[[0,1,2,3,4,5,6,7,8,9,10],[4]]"
   ]
  },
  {
   "cell_type": "code",
   "execution_count": 111,
   "id": "3a7b0251-f9e3-4f81-858d-d6c1c2b41e2d",
   "metadata": {},
   "outputs": [
    {
     "data": {
      "text/html": [
       "<div>\n",
       "<style scoped>\n",
       "    .dataframe tbody tr th:only-of-type {\n",
       "        vertical-align: middle;\n",
       "    }\n",
       "\n",
       "    .dataframe tbody tr th {\n",
       "        vertical-align: top;\n",
       "    }\n",
       "\n",
       "    .dataframe thead th {\n",
       "        text-align: right;\n",
       "    }\n",
       "</style>\n",
       "<table border=\"1\" class=\"dataframe\">\n",
       "  <thead>\n",
       "    <tr style=\"text-align: right;\">\n",
       "      <th></th>\n",
       "      <th>Data.Cases</th>\n",
       "      <th>Data.Deaths</th>\n",
       "    </tr>\n",
       "  </thead>\n",
       "  <tbody>\n",
       "    <tr>\n",
       "      <th>0</th>\n",
       "      <td>0</td>\n",
       "      <td>0</td>\n",
       "    </tr>\n",
       "    <tr>\n",
       "      <th>1</th>\n",
       "      <td>0</td>\n",
       "      <td>0</td>\n",
       "    </tr>\n",
       "    <tr>\n",
       "      <th>2</th>\n",
       "      <td>0</td>\n",
       "      <td>0</td>\n",
       "    </tr>\n",
       "    <tr>\n",
       "      <th>3</th>\n",
       "      <td>0</td>\n",
       "      <td>0</td>\n",
       "    </tr>\n",
       "    <tr>\n",
       "      <th>4</th>\n",
       "      <td>0</td>\n",
       "      <td>0</td>\n",
       "    </tr>\n",
       "    <tr>\n",
       "      <th>5</th>\n",
       "      <td>0</td>\n",
       "      <td>0</td>\n",
       "    </tr>\n",
       "    <tr>\n",
       "      <th>6</th>\n",
       "      <td>0</td>\n",
       "      <td>0</td>\n",
       "    </tr>\n",
       "    <tr>\n",
       "      <th>7</th>\n",
       "      <td>0</td>\n",
       "      <td>0</td>\n",
       "    </tr>\n",
       "    <tr>\n",
       "      <th>8</th>\n",
       "      <td>0</td>\n",
       "      <td>0</td>\n",
       "    </tr>\n",
       "    <tr>\n",
       "      <th>9</th>\n",
       "      <td>0</td>\n",
       "      <td>0</td>\n",
       "    </tr>\n",
       "    <tr>\n",
       "      <th>10</th>\n",
       "      <td>0</td>\n",
       "      <td>0</td>\n",
       "    </tr>\n",
       "  </tbody>\n",
       "</table>\n",
       "</div>"
      ],
      "text/plain": [
       "    Data.Cases  Data.Deaths\n",
       "0            0            0\n",
       "1            0            0\n",
       "2            0            0\n",
       "3            0            0\n",
       "4            0            0\n",
       "5            0            0\n",
       "6            0            0\n",
       "7            0            0\n",
       "8            0            0\n",
       "9            0            0\n",
       "10           0            0"
      ]
     },
     "execution_count": 111,
     "metadata": {},
     "output_type": "execute_result"
    }
   ],
   "source": [
    "# Use \"loc\" to print out the first 10 elements of the plotted column\n",
    "# as well as the matching 10 elements of a different column that has interesting text\n",
    "\n",
    "covid_df.loc[:10,['Data.Cases','Data.Deaths']]"
   ]
  },
  {
   "cell_type": "markdown",
   "id": "1de2d362",
   "metadata": {},
   "source": [
    "### the first 10 values are all 0; I will picture a picture which values are not 0 as below"
   ]
  },
  {
   "cell_type": "code",
   "execution_count": 127,
   "id": "e2b2a59b-4246-40cc-b5de-728bd678b832",
   "metadata": {},
   "outputs": [
    {
     "data": {
      "text/plain": [
       "<AxesSubplot:xlabel='Location.Country'>"
      ]
     },
     "execution_count": 127,
     "metadata": {},
     "output_type": "execute_result"
    },
    {
     "data": {
      "image/png": "[encoded data removed]",
      "text/plain": [
       "<Figure size 432x288 with 1 Axes>"
      ]
     },
     "metadata": {
      "needs_background": "light"
     },
     "output_type": "display_data"
    }
   ],
   "source": [
    "# Assign the dataframe values from the previous cell into a new dataframe variable\n",
    "# and make a bar plot with the text values horizontally and the numeric values as the bar heights\n",
    "\n",
    "covid_df.loc[0:10,['Data.Cases','Location.Country']].plot(kind='bar',x='Location.Country')"
   ]
  },
  {
   "cell_type": "markdown",
   "id": "bcbf4395",
   "metadata": {},
   "source": [
    "### example 2"
   ]
  },
  {
   "cell_type": "code",
   "execution_count": 126,
   "id": "d33a7fc2",
   "metadata": {},
   "outputs": [
    {
     "data": {
      "text/plain": [
       "<AxesSubplot:xlabel='Location.Country'>"
      ]
     },
     "execution_count": 126,
     "metadata": {},
     "output_type": "execute_result"
    },
    {
     "data": {
      "image/png": "[encoded data removed]",
      "text/plain": [
       "<Figure size 432x288 with 1 Axes>"
      ]
     },
     "metadata": {
      "needs_background": "light"
     },
     "output_type": "display_data"
    }
   ],
   "source": [
    "# Assign the dataframe values from the previous cell into a new dataframe variable\n",
    "# and make a bar plot with the text values horizontally and the numeric values as the bar heights\n",
    "\n",
    "covid_df.loc[53000:53030,['Data.Cases','Location.Country']].plot(kind='bar',color='r',x='Location.Country')"
   ]
  },
  {
   "cell_type": "code",
   "execution_count": 155,
   "id": "46120796-845a-49b3-997f-b44825e375ea",
   "metadata": {},
   "outputs": [
    {
     "data": {
      "text/plain": [
       "<AxesSubplot:ylabel='Location.Country'>"
      ]
     },
     "execution_count": 155,
     "metadata": {},
     "output_type": "execute_result"
    },
    {
     "data": {
      "image/png": "[encoded data removed]",
      "text/plain": [
       "<Figure size 432x288 with 1 Axes>"
      ]
     },
     "metadata": {
      "needs_background": "light"
     },
     "output_type": "display_data"
    }
   ],
   "source": [
    "# Re-do the plot from the previous cell as a horizontal bar plot\n",
    "\n",
    "covid_df.loc[53000:53030,['Data.Cases','Location.Country']].plot(kind='barh',color='g',x='Location.Country')"
   ]
  },
  {
   "cell_type": "code",
   "execution_count": 183,
   "id": "c8273eab-a2d6-445a-a92d-869375b82428",
   "metadata": {},
   "outputs": [
    {
     "data": {
      "text/plain": [
       "Text(10000, 25, 'France is the superhighest!')"
      ]
     },
     "execution_count": 183,
     "metadata": {},
     "output_type": "execute_result"
    },
    {
     "data": {
      "image/png": "[encoded data removed]",
      "text/plain": [
       "<Figure size 432x288 with 1 Axes>"
      ]
     },
     "metadata": {
      "needs_background": "light"
     },
     "output_type": "display_data"
    }
   ],
   "source": [
    "# Re-do the plot from the previous cell\n",
    "# and change at least two aesthetic elements (colors, labels, titles, ...)\n",
    "import matplotlib.pyplot as picture\n",
    "\n",
    "covid_df.loc[53000:53030,['Data.Cases','Location.Country']].plot(kind='barh',color='blue',x='Location.Country')\n",
    "picture.text(10000,25,'France is the superhighest!',fontsize=16)"
   ]
  },
  {
   "cell_type": "markdown",
   "id": "48245e7e-c7b9-43ee-a8e2-d66502b899fc",
   "metadata": {},
   "source": [
    "# Free form section"
   ]
  },
  {
   "cell_type": "markdown",
   "id": "66503e37-f96a-4a25-aaf6-c7d8b9f8cbdd",
   "metadata": {},
   "source": [
    "* Choose another type of plot that interests you from the [pandas.DataFrame.plot documentation](https://pandas.pydata.org/docs/reference/api/pandas.DataFrame.plot.html#) [look at the 'kind' parameter] and make a new plot of your dataset values using the plot type"
   ]
  },
  {
   "cell_type": "code",
   "execution_count": 189,
   "id": "3fa0ce73-b09e-46a6-b1e7-2d68f2696f8d",
   "metadata": {},
   "outputs": [
    {
     "ename": "ValueError",
     "evalue": "pie requires either y column or 'subplots=True'",
     "output_type": "error",
     "traceback": [
      "\u001b[1;31m---------------------------------------------------------------------------\u001b[0m",
      "\u001b[1;31mValueError\u001b[0m                                Traceback (most recent call last)",
      "\u001b[1;32m~\\AppData\\Local\\Temp/ipykernel_2552/2907201801.py\u001b[0m in \u001b[0;36m<module>\u001b[1;34m\u001b[0m\n\u001b[1;32m----> 1\u001b[1;33m \u001b[0mcovid_df\u001b[0m\u001b[1;33m.\u001b[0m\u001b[0mloc\u001b[0m\u001b[1;33m[\u001b[0m\u001b[1;36m53000\u001b[0m\u001b[1;33m:\u001b[0m\u001b[1;36m53030\u001b[0m\u001b[1;33m,\u001b[0m\u001b[1;33m[\u001b[0m\u001b[1;34m'Data.Cases'\u001b[0m\u001b[1;33m,\u001b[0m\u001b[1;34m'Location.Country'\u001b[0m\u001b[1;33m]\u001b[0m\u001b[1;33m]\u001b[0m\u001b[1;33m.\u001b[0m\u001b[0mplot\u001b[0m\u001b[1;33m(\u001b[0m\u001b[0mkind\u001b[0m\u001b[1;33m=\u001b[0m\u001b[1;34m'pie'\u001b[0m\u001b[1;33m)\u001b[0m\u001b[1;33m\u001b[0m\u001b[1;33m\u001b[0m\u001b[0m\n\u001b[0m",
      "\u001b[1;32m~\\anaconda3\\lib\\site-packages\\pandas\\plotting\\_core.py\u001b[0m in \u001b[0;36m__call__\u001b[1;34m(self, *args, **kwargs)\u001b[0m\n\u001b[0;32m    921\u001b[0m             \u001b[1;32mif\u001b[0m \u001b[0misinstance\u001b[0m\u001b[1;33m(\u001b[0m\u001b[0mdata\u001b[0m\u001b[1;33m,\u001b[0m \u001b[0mABCDataFrame\u001b[0m\u001b[1;33m)\u001b[0m\u001b[1;33m:\u001b[0m\u001b[1;33m\u001b[0m\u001b[1;33m\u001b[0m\u001b[0m\n\u001b[0;32m    922\u001b[0m                 \u001b[1;32mif\u001b[0m \u001b[0my\u001b[0m \u001b[1;32mis\u001b[0m \u001b[1;32mNone\u001b[0m \u001b[1;32mand\u001b[0m \u001b[0mkwargs\u001b[0m\u001b[1;33m.\u001b[0m\u001b[0mget\u001b[0m\u001b[1;33m(\u001b[0m\u001b[1;34m\"subplots\"\u001b[0m\u001b[1;33m)\u001b[0m \u001b[1;32mis\u001b[0m \u001b[1;32mFalse\u001b[0m\u001b[1;33m:\u001b[0m\u001b[1;33m\u001b[0m\u001b[1;33m\u001b[0m\u001b[0m\n\u001b[1;32m--> 923\u001b[1;33m                     raise ValueError(\n\u001b[0m\u001b[0;32m    924\u001b[0m                         \u001b[1;34mf\"{kind} requires either y column or 'subplots=True'\"\u001b[0m\u001b[1;33m\u001b[0m\u001b[1;33m\u001b[0m\u001b[0m\n\u001b[0;32m    925\u001b[0m                     )\n",
      "\u001b[1;31mValueError\u001b[0m: pie requires either y column or 'subplots=True'"
     ]
    }
   ],
   "source": [
    "covid_df.loc[53000:53030,['Data.Cases','Location.Country']].plot(kind='pie')"
   ]
  },
  {
   "cell_type": "markdown",
   "id": "6eb40e90-d302-49d1-a8a3-ed406d9b984d",
   "metadata": {},
   "source": [
    "* Copy some of your analysis from the Week 2 assignment into new cells below\n",
    "* Clean them up if desired, and make sure that you translate them to work with your new pandas dataframe structure here if needed\n",
    "* Create several plots to complement and extend your analysis"
   ]
  },
  {
   "cell_type": "code",
   "execution_count": null,
   "id": "7d756a6d-3b15-48c0-b4ee-2a8772506dd2",
   "metadata": {},
   "outputs": [],
   "source": []
  }
 ],
 "metadata": {
  "kernelspec": {
   "display_name": "Python 3 (ipykernel)",
   "language": "python",
   "name": "python3"
  },
  "language_info": {
   "codemirror_mode": {
    "name": "ipython",
    "version": 3
   },
   "file_extension": ".py",
   "mimetype": "text/x-python",
   "name": "python",
   "nbconvert_exporter": "python",
   "pygments_lexer": "ipython3",
   "version": "3.9.7"
  }
 },
 "nbformat": 4,
 "nbformat_minor": 5
}
