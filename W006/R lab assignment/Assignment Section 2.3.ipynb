{
 "cells": [
  {
   "cell_type": "code",
   "execution_count": 9,
   "id": "292e6b6d",
   "metadata": {},
   "outputs": [
    {
     "data": {
      "text/html": [
       "<ol class=list-inline>\n",
       "\t<li>1</li>\n",
       "\t<li>3</li>\n",
       "\t<li>2</li>\n",
       "\t<li>5</li>\n",
       "</ol>\n"
      ],
      "text/latex": [
       "\\begin{enumerate*}\n",
       "\\item 1\n",
       "\\item 3\n",
       "\\item 2\n",
       "\\item 5\n",
       "\\end{enumerate*}\n"
      ],
      "text/markdown": [
       "1. 1\n",
       "2. 3\n",
       "3. 2\n",
       "4. 5\n",
       "\n",
       "\n"
      ],
      "text/plain": [
       "[1] 1 3 2 5"
      ]
     },
     "metadata": {},
     "output_type": "display_data"
    }
   ],
   "source": [
    "x <- c(1, 3, 2, 5)\n",
    "x"
   ]
  },
  {
   "cell_type": "code",
   "execution_count": 10,
   "id": "3ed17cc5",
   "metadata": {},
   "outputs": [
    {
     "data": {
      "text/html": [
       "<ol class=list-inline>\n",
       "\t<li>1</li>\n",
       "\t<li>6</li>\n",
       "\t<li>2</li>\n",
       "</ol>\n"
      ],
      "text/latex": [
       "\\begin{enumerate*}\n",
       "\\item 1\n",
       "\\item 6\n",
       "\\item 2\n",
       "\\end{enumerate*}\n"
      ],
      "text/markdown": [
       "1. 1\n",
       "2. 6\n",
       "3. 2\n",
       "\n",
       "\n"
      ],
      "text/plain": [
       "[1] 1 6 2"
      ]
     },
     "metadata": {},
     "output_type": "display_data"
    },
    {
     "data": {
      "text/html": [
       "<ol class=list-inline>\n",
       "\t<li>1</li>\n",
       "\t<li>4</li>\n",
       "\t<li>3</li>\n",
       "</ol>\n"
      ],
      "text/latex": [
       "\\begin{enumerate*}\n",
       "\\item 1\n",
       "\\item 4\n",
       "\\item 3\n",
       "\\end{enumerate*}\n"
      ],
      "text/markdown": [
       "1. 1\n",
       "2. 4\n",
       "3. 3\n",
       "\n",
       "\n"
      ],
      "text/plain": [
       "[1] 1 4 3"
      ]
     },
     "metadata": {},
     "output_type": "display_data"
    },
    {
     "data": {
      "text/html": [
       "<ol class=list-inline>\n",
       "\t<li>2</li>\n",
       "\t<li>10</li>\n",
       "\t<li>5</li>\n",
       "</ol>\n"
      ],
      "text/latex": [
       "\\begin{enumerate*}\n",
       "\\item 2\n",
       "\\item 10\n",
       "\\item 5\n",
       "\\end{enumerate*}\n"
      ],
      "text/markdown": [
       "1. 2\n",
       "2. 10\n",
       "3. 5\n",
       "\n",
       "\n"
      ],
      "text/plain": [
       "[1]  2 10  5"
      ]
     },
     "metadata": {},
     "output_type": "display_data"
    }
   ],
   "source": [
    "x = c(1, 6, 2)\n",
    "x\n",
    "y = c(1, 4, 3)\n",
    "y\n",
    "x+y"
   ]
  },
  {
   "cell_type": "code",
   "execution_count": 11,
   "id": "368c0ae0",
   "metadata": {},
   "outputs": [
    {
     "data": {
      "text/html": [
       "3"
      ],
      "text/latex": [
       "3"
      ],
      "text/markdown": [
       "3"
      ],
      "text/plain": [
       "[1] 3"
      ]
     },
     "metadata": {},
     "output_type": "display_data"
    },
    {
     "data": {
      "text/html": [
       "3"
      ],
      "text/latex": [
       "3"
      ],
      "text/markdown": [
       "3"
      ],
      "text/plain": [
       "[1] 3"
      ]
     },
     "metadata": {},
     "output_type": "display_data"
    }
   ],
   "source": [
    "length(x)\n",
    "length(y)"
   ]
  },
  {
   "cell_type": "code",
   "execution_count": 20,
   "id": "80097363",
   "metadata": {},
   "outputs": [
    {
     "name": "stdout",
     "output_type": "stream",
     "text": [
      "[1] \"x\" \"y\"\n",
      "character(0)\n"
     ]
    }
   ],
   "source": [
    "x = c(1, 6, 2)\n",
    "y = c(1, 4, 3)\n",
    "print(ls())\n",
    "rm(x,y)\n",
    "print(ls())"
   ]
  },
  {
   "cell_type": "code",
   "execution_count": 21,
   "id": "e9dbc94a",
   "metadata": {},
   "outputs": [
    {
     "name": "stdout",
     "output_type": "stream",
     "text": [
      "[1] \"x\" \"y\"\n",
      "character(0)\n"
     ]
    }
   ],
   "source": [
    "x = c(1, 6, 2)\n",
    "y = c(1, 4, 3)\n",
    "print(ls())\n",
    "rm(list=ls())\n",
    "print(ls())"
   ]
  },
  {
   "cell_type": "code",
   "execution_count": 23,
   "id": "2f5865d0",
   "metadata": {},
   "outputs": [
    {
     "data": {
      "text/html": [
       "<table>\n",
       "<tbody>\n",
       "\t<tr><td>1</td><td>3</td></tr>\n",
       "\t<tr><td>2</td><td>4</td></tr>\n",
       "</tbody>\n",
       "</table>\n"
      ],
      "text/latex": [
       "\\begin{tabular}{ll}\n",
       "\t 1 & 3\\\\\n",
       "\t 2 & 4\\\\\n",
       "\\end{tabular}\n"
      ],
      "text/markdown": [
       "\n",
       "| 1 | 3 |\n",
       "| 2 | 4 |\n",
       "\n"
      ],
      "text/plain": [
       "     [,1] [,2]\n",
       "[1,] 1    3   \n",
       "[2,] 2    4   "
      ]
     },
     "metadata": {},
     "output_type": "display_data"
    }
   ],
   "source": [
    "x <- matrix(data = c(1, 2, 3, 4), nrow = 2, ncol = 2)\n",
    "x"
   ]
  },
  {
   "cell_type": "code",
   "execution_count": 25,
   "id": "e81e48b7",
   "metadata": {},
   "outputs": [
    {
     "data": {
      "text/html": [
       "<table>\n",
       "<tbody>\n",
       "\t<tr><td>1</td><td>3</td></tr>\n",
       "\t<tr><td>2</td><td>4</td></tr>\n",
       "</tbody>\n",
       "</table>\n"
      ],
      "text/latex": [
       "\\begin{tabular}{ll}\n",
       "\t 1 & 3\\\\\n",
       "\t 2 & 4\\\\\n",
       "\\end{tabular}\n"
      ],
      "text/markdown": [
       "\n",
       "| 1 | 3 |\n",
       "| 2 | 4 |\n",
       "\n"
      ],
      "text/plain": [
       "     [,1] [,2]\n",
       "[1,] 1    3   \n",
       "[2,] 2    4   "
      ]
     },
     "metadata": {},
     "output_type": "display_data"
    }
   ],
   "source": [
    "x <- matrix(c(1, 2, 3, 4), 2, 2)\n",
    "x"
   ]
  },
  {
   "cell_type": "code",
   "execution_count": 26,
   "id": "2cae49f1",
   "metadata": {},
   "outputs": [
    {
     "name": "stderr",
     "output_type": "stream",
     "text": [
      "Warning message in matrix(c(1, 2, 3, 4), 2, 3):\n",
      "\"資料長度 [4] 並非欄位數量 [3] 的因數或倍數\""
     ]
    },
    {
     "data": {
      "text/html": [
       "<table>\n",
       "<tbody>\n",
       "\t<tr><td>1</td><td>3</td><td>1</td></tr>\n",
       "\t<tr><td>2</td><td>4</td><td>2</td></tr>\n",
       "</tbody>\n",
       "</table>\n"
      ],
      "text/latex": [
       "\\begin{tabular}{lll}\n",
       "\t 1 & 3 & 1\\\\\n",
       "\t 2 & 4 & 2\\\\\n",
       "\\end{tabular}\n"
      ],
      "text/markdown": [
       "\n",
       "| 1 | 3 | 1 |\n",
       "| 2 | 4 | 2 |\n",
       "\n"
      ],
      "text/plain": [
       "     [,1] [,2] [,3]\n",
       "[1,] 1    3    1   \n",
       "[2,] 2    4    2   "
      ]
     },
     "metadata": {},
     "output_type": "display_data"
    }
   ],
   "source": [
    "y <- matrix(c(1, 2, 3, 4), 2, 3)\n",
    "y"
   ]
  },
  {
   "cell_type": "code",
   "execution_count": 29,
   "id": "93575a5c",
   "metadata": {},
   "outputs": [
    {
     "data": {
      "text/html": [
       "<table>\n",
       "<tbody>\n",
       "\t<tr><td>1</td><td>2</td></tr>\n",
       "\t<tr><td>3</td><td>4</td></tr>\n",
       "</tbody>\n",
       "</table>\n"
      ],
      "text/latex": [
       "\\begin{tabular}{ll}\n",
       "\t 1 & 2\\\\\n",
       "\t 3 & 4\\\\\n",
       "\\end{tabular}\n"
      ],
      "text/markdown": [
       "\n",
       "| 1 | 2 |\n",
       "| 3 | 4 |\n",
       "\n"
      ],
      "text/plain": [
       "     [,1] [,2]\n",
       "[1,] 1    2   \n",
       "[2,] 3    4   "
      ]
     },
     "metadata": {},
     "output_type": "display_data"
    }
   ],
   "source": [
    "z1=matrix(c(1, 2, 3, 4), 2, 2, byrow = TRUE)\n",
    "z1"
   ]
  },
  {
   "cell_type": "code",
   "execution_count": 31,
   "id": "8abd5b8c",
   "metadata": {},
   "outputs": [
    {
     "data": {
      "text/html": [
       "<table>\n",
       "<tbody>\n",
       "\t<tr><td>1</td><td>3</td></tr>\n",
       "\t<tr><td>2</td><td>4</td></tr>\n",
       "</tbody>\n",
       "</table>\n"
      ],
      "text/latex": [
       "\\begin{tabular}{ll}\n",
       "\t 1 & 3\\\\\n",
       "\t 2 & 4\\\\\n",
       "\\end{tabular}\n"
      ],
      "text/markdown": [
       "\n",
       "| 1 | 3 |\n",
       "| 2 | 4 |\n",
       "\n"
      ],
      "text/plain": [
       "     [,1] [,2]\n",
       "[1,] 1    3   \n",
       "[2,] 2    4   "
      ]
     },
     "metadata": {},
     "output_type": "display_data"
    }
   ],
   "source": [
    "z2=matrix(c(1, 2, 3, 4), 2, 2, byrow = FALSE)\n",
    "z2"
   ]
  },
  {
   "cell_type": "code",
   "execution_count": 32,
   "id": "1ea43de6",
   "metadata": {},
   "outputs": [
    {
     "data": {
      "text/html": [
       "<table>\n",
       "<tbody>\n",
       "\t<tr><td>1.000000</td><td>1.414214</td></tr>\n",
       "\t<tr><td>1.732051</td><td>2.000000</td></tr>\n",
       "</tbody>\n",
       "</table>\n"
      ],
      "text/latex": [
       "\\begin{tabular}{ll}\n",
       "\t 1.000000 & 1.414214\\\\\n",
       "\t 1.732051 & 2.000000\\\\\n",
       "\\end{tabular}\n"
      ],
      "text/markdown": [
       "\n",
       "| 1.000000 | 1.414214 |\n",
       "| 1.732051 | 2.000000 |\n",
       "\n"
      ],
      "text/plain": [
       "     [,1]     [,2]    \n",
       "[1,] 1.000000 1.414214\n",
       "[2,] 1.732051 2.000000"
      ]
     },
     "metadata": {},
     "output_type": "display_data"
    },
    {
     "data": {
      "text/html": [
       "<table>\n",
       "<tbody>\n",
       "\t<tr><td>1.000000</td><td>1.732051</td></tr>\n",
       "\t<tr><td>1.414214</td><td>2.000000</td></tr>\n",
       "</tbody>\n",
       "</table>\n"
      ],
      "text/latex": [
       "\\begin{tabular}{ll}\n",
       "\t 1.000000 & 1.732051\\\\\n",
       "\t 1.414214 & 2.000000\\\\\n",
       "\\end{tabular}\n"
      ],
      "text/markdown": [
       "\n",
       "| 1.000000 | 1.732051 |\n",
       "| 1.414214 | 2.000000 |\n",
       "\n"
      ],
      "text/plain": [
       "     [,1]     [,2]    \n",
       "[1,] 1.000000 1.732051\n",
       "[2,] 1.414214 2.000000"
      ]
     },
     "metadata": {},
     "output_type": "display_data"
    }
   ],
   "source": [
    "sqrt(z1)\n",
    "sqrt(z2)"
   ]
  },
  {
   "cell_type": "code",
   "execution_count": 39,
   "id": "0e8fd56e",
   "metadata": {},
   "outputs": [
    {
     "data": {
      "text/html": [
       "<table>\n",
       "<tbody>\n",
       "\t<tr><td>1 </td><td> 4</td></tr>\n",
       "\t<tr><td>9 </td><td>16</td></tr>\n",
       "</tbody>\n",
       "</table>\n"
      ],
      "text/latex": [
       "\\begin{tabular}{ll}\n",
       "\t 1  &  4\\\\\n",
       "\t 9  & 16\\\\\n",
       "\\end{tabular}\n"
      ],
      "text/markdown": [
       "\n",
       "| 1  |  4 |\n",
       "| 9  | 16 |\n",
       "\n"
      ],
      "text/plain": [
       "     [,1] [,2]\n",
       "[1,] 1     4  \n",
       "[2,] 9    16  "
      ]
     },
     "metadata": {},
     "output_type": "display_data"
    },
    {
     "data": {
      "text/html": [
       "<table>\n",
       "<tbody>\n",
       "\t<tr><td>1 </td><td> 9</td></tr>\n",
       "\t<tr><td>4 </td><td>16</td></tr>\n",
       "</tbody>\n",
       "</table>\n"
      ],
      "text/latex": [
       "\\begin{tabular}{ll}\n",
       "\t 1  &  9\\\\\n",
       "\t 4  & 16\\\\\n",
       "\\end{tabular}\n"
      ],
      "text/markdown": [
       "\n",
       "| 1  |  9 |\n",
       "| 4  | 16 |\n",
       "\n"
      ],
      "text/plain": [
       "     [,1] [,2]\n",
       "[1,] 1     9  \n",
       "[2,] 4    16  "
      ]
     },
     "metadata": {},
     "output_type": "display_data"
    }
   ],
   "source": [
    "z1^2\n",
    "z2^2"
   ]
  },
  {
   "cell_type": "code",
   "execution_count": 33,
   "id": "9c333acd",
   "metadata": {},
   "outputs": [
    {
     "data": {
      "text/html": [
       "0.995428465264981"
      ],
      "text/latex": [
       "0.995428465264981"
      ],
      "text/markdown": [
       "0.995428465264981"
      ],
      "text/plain": [
       "[1] 0.9954285"
      ]
     },
     "metadata": {},
     "output_type": "display_data"
    }
   ],
   "source": [
    "x <- rnorm (50)\n",
    "y <- x + rnorm (50, mean = 50, sd = .1)\n",
    "cor(x, y)"
   ]
  },
  {
   "cell_type": "code",
   "execution_count": 34,
   "id": "eaab0060",
   "metadata": {},
   "outputs": [
    {
     "data": {
      "text/html": [
       "<ol class=list-inline>\n",
       "\t<li>-1.14397631447974</li>\n",
       "\t<li>1.34212936561501</li>\n",
       "\t<li>2.18539047574276</li>\n",
       "\t<li>0.536392517923731</li>\n",
       "\t<li>0.0631929664685468</li>\n",
       "\t<li>0.502234482468979</li>\n",
       "\t<li>-0.000416724686432643</li>\n",
       "\t<li>0.565819840539162</li>\n",
       "\t<li>-0.572522688962623</li>\n",
       "\t<li>-1.11022500727696</li>\n",
       "\t<li>-0.0486871233624514</li>\n",
       "\t<li>-0.695656217619366</li>\n",
       "\t<li>0.828917480303335</li>\n",
       "\t<li>0.206652855081802</li>\n",
       "\t<li>-0.235674509102427</li>\n",
       "\t<li>-0.556310491381104</li>\n",
       "\t<li>-0.364754357080585</li>\n",
       "\t<li>0.862355034263622</li>\n",
       "\t<li>-0.63077153536771</li>\n",
       "\t<li>0.313602125215739</li>\n",
       "\t<li>-0.931495317661393</li>\n",
       "\t<li>0.823867618473952</li>\n",
       "\t<li>0.523370702077482</li>\n",
       "\t<li>0.706921411979056</li>\n",
       "\t<li>0.420204325601679</li>\n",
       "\t<li>-0.269052154682033</li>\n",
       "\t<li>-1.51031729990999</li>\n",
       "\t<li>-0.69021247657504</li>\n",
       "\t<li>-0.143471952443572</li>\n",
       "\t<li>-1.0135274099044</li>\n",
       "\t<li>1.57327373614751</li>\n",
       "\t<li>0.0127465054882014</li>\n",
       "\t<li>0.872647049887217</li>\n",
       "\t<li>0.422066190530336</li>\n",
       "\t<li>-0.0188157916578866</li>\n",
       "\t<li>2.61574896890584</li>\n",
       "\t<li>-0.693140174826871</li>\n",
       "\t<li>-0.266321780991085</li>\n",
       "\t<li>-0.720636441231524</li>\n",
       "\t<li>1.36773420645149</li>\n",
       "\t<li>0.264007332160512</li>\n",
       "\t<li>0.632186807367191</li>\n",
       "\t<li>-1.33065098578719</li>\n",
       "\t<li>0.0268888182209596</li>\n",
       "\t<li>1.0406363207788</li>\n",
       "\t<li>1.31202379854711</li>\n",
       "\t<li>-0.0300020766733214</li>\n",
       "\t<li>-0.250025712488174</li>\n",
       "\t<li>0.0234144856913592</li>\n",
       "\t<li>1.65987065574227</li>\n",
       "</ol>\n"
      ],
      "text/latex": [
       "\\begin{enumerate*}\n",
       "\\item -1.14397631447974\n",
       "\\item 1.34212936561501\n",
       "\\item 2.18539047574276\n",
       "\\item 0.536392517923731\n",
       "\\item 0.0631929664685468\n",
       "\\item 0.502234482468979\n",
       "\\item -0.000416724686432643\n",
       "\\item 0.565819840539162\n",
       "\\item -0.572522688962623\n",
       "\\item -1.11022500727696\n",
       "\\item -0.0486871233624514\n",
       "\\item -0.695656217619366\n",
       "\\item 0.828917480303335\n",
       "\\item 0.206652855081802\n",
       "\\item -0.235674509102427\n",
       "\\item -0.556310491381104\n",
       "\\item -0.364754357080585\n",
       "\\item 0.862355034263622\n",
       "\\item -0.63077153536771\n",
       "\\item 0.313602125215739\n",
       "\\item -0.931495317661393\n",
       "\\item 0.823867618473952\n",
       "\\item 0.523370702077482\n",
       "\\item 0.706921411979056\n",
       "\\item 0.420204325601679\n",
       "\\item -0.269052154682033\n",
       "\\item -1.51031729990999\n",
       "\\item -0.69021247657504\n",
       "\\item -0.143471952443572\n",
       "\\item -1.0135274099044\n",
       "\\item 1.57327373614751\n",
       "\\item 0.0127465054882014\n",
       "\\item 0.872647049887217\n",
       "\\item 0.422066190530336\n",
       "\\item -0.0188157916578866\n",
       "\\item 2.61574896890584\n",
       "\\item -0.693140174826871\n",
       "\\item -0.266321780991085\n",
       "\\item -0.720636441231524\n",
       "\\item 1.36773420645149\n",
       "\\item 0.264007332160512\n",
       "\\item 0.632186807367191\n",
       "\\item -1.33065098578719\n",
       "\\item 0.0268888182209596\n",
       "\\item 1.0406363207788\n",
       "\\item 1.31202379854711\n",
       "\\item -0.0300020766733214\n",
       "\\item -0.250025712488174\n",
       "\\item 0.0234144856913592\n",
       "\\item 1.65987065574227\n",
       "\\end{enumerate*}\n"
      ],
      "text/markdown": [
       "1. -1.14397631447974\n",
       "2. 1.34212936561501\n",
       "3. 2.18539047574276\n",
       "4. 0.536392517923731\n",
       "5. 0.0631929664685468\n",
       "6. 0.502234482468979\n",
       "7. -0.000416724686432643\n",
       "8. 0.565819840539162\n",
       "9. -0.572522688962623\n",
       "10. -1.11022500727696\n",
       "11. -0.0486871233624514\n",
       "12. -0.695656217619366\n",
       "13. 0.828917480303335\n",
       "14. 0.206652855081802\n",
       "15. -0.235674509102427\n",
       "16. -0.556310491381104\n",
       "17. -0.364754357080585\n",
       "18. 0.862355034263622\n",
       "19. -0.63077153536771\n",
       "20. 0.313602125215739\n",
       "21. -0.931495317661393\n",
       "22. 0.823867618473952\n",
       "23. 0.523370702077482\n",
       "24. 0.706921411979056\n",
       "25. 0.420204325601679\n",
       "26. -0.269052154682033\n",
       "27. -1.51031729990999\n",
       "28. -0.69021247657504\n",
       "29. -0.143471952443572\n",
       "30. -1.0135274099044\n",
       "31. 1.57327373614751\n",
       "32. 0.0127465054882014\n",
       "33. 0.872647049887217\n",
       "34. 0.422066190530336\n",
       "35. -0.0188157916578866\n",
       "36. 2.61574896890584\n",
       "37. -0.693140174826871\n",
       "38. -0.266321780991085\n",
       "39. -0.720636441231524\n",
       "40. 1.36773420645149\n",
       "41. 0.264007332160512\n",
       "42. 0.632186807367191\n",
       "43. -1.33065098578719\n",
       "44. 0.0268888182209596\n",
       "45. 1.0406363207788\n",
       "46. 1.31202379854711\n",
       "47. -0.0300020766733214\n",
       "48. -0.250025712488174\n",
       "49. 0.0234144856913592\n",
       "50. 1.65987065574227\n",
       "\n",
       "\n"
      ],
      "text/plain": [
       " [1] -1.1439763145  1.3421293656  2.1853904757  0.5363925179  0.0631929665\n",
       " [6]  0.5022344825 -0.0004167247  0.5658198405 -0.5725226890 -1.1102250073\n",
       "[11] -0.0486871234 -0.6956562176  0.8289174803  0.2066528551 -0.2356745091\n",
       "[16] -0.5563104914 -0.3647543571  0.8623550343 -0.6307715354  0.3136021252\n",
       "[21] -0.9314953177  0.8238676185  0.5233707021  0.7069214120  0.4202043256\n",
       "[26] -0.2690521547 -1.5103172999 -0.6902124766 -0.1434719524 -1.0135274099\n",
       "[31]  1.5732737361  0.0127465055  0.8726470499  0.4220661905 -0.0188157917\n",
       "[36]  2.6157489689 -0.6931401748 -0.2663217810 -0.7206364412  1.3677342065\n",
       "[41]  0.2640073322  0.6321868074 -1.3306509858  0.0268888182  1.0406363208\n",
       "[46]  1.3120237985 -0.0300020767 -0.2500257125  0.0234144857  1.6598706557"
      ]
     },
     "metadata": {},
     "output_type": "display_data"
    }
   ],
   "source": [
    "set.seed (1303)\n",
    "rnorm (50)"
   ]
  },
  {
   "cell_type": "code",
   "execution_count": 35,
   "id": "a699f471",
   "metadata": {},
   "outputs": [
    {
     "data": {
      "text/html": [
       "0.0110355710943715"
      ],
      "text/latex": [
       "0.0110355710943715"
      ],
      "text/markdown": [
       "0.0110355710943715"
      ],
      "text/plain": [
       "[1] 0.01103557"
      ]
     },
     "metadata": {},
     "output_type": "display_data"
    },
    {
     "data": {
      "text/html": [
       "0.732867501277449"
      ],
      "text/latex": [
       "0.732867501277449"
      ],
      "text/markdown": [
       "0.732867501277449"
      ],
      "text/plain": [
       "[1] 0.7328675"
      ]
     },
     "metadata": {},
     "output_type": "display_data"
    },
    {
     "data": {
      "text/html": [
       "0.856076808047881"
      ],
      "text/latex": [
       "0.856076808047881"
      ],
      "text/markdown": [
       "0.856076808047881"
      ],
      "text/plain": [
       "[1] 0.8560768"
      ]
     },
     "metadata": {},
     "output_type": "display_data"
    },
    {
     "data": {
      "text/html": [
       "0.856076808047881"
      ],
      "text/latex": [
       "0.856076808047881"
      ],
      "text/markdown": [
       "0.856076808047881"
      ],
      "text/plain": [
       "[1] 0.8560768"
      ]
     },
     "metadata": {},
     "output_type": "display_data"
    }
   ],
   "source": [
    "set.seed (3)\n",
    "y <- rnorm (100)\n",
    "mean(y)\n",
    "var(y)\n",
    "sqrt(var(y))\n",
    "sd(y)"
   ]
  },
  {
   "cell_type": "code",
   "execution_count": 36,
   "id": "8fa04401",
   "metadata": {},
   "outputs": [
    {
     "data": {
      "image/png": "[encoded data removed]",
      "text/plain": [
       "Plot with title \"Plot of X vs Y\""
      ]
     },
     "metadata": {},
     "output_type": "display_data"
    }
   ],
   "source": [
    "x <- rnorm (100)\n",
    "y <- rnorm (100)\n",
    "plot(x, y, xlab = \"this is the x-axis\",\n",
    "ylab = \"this is the y-axis\",\n",
    "main = \"Plot of X vs Y\")"
   ]
  },
  {
   "cell_type": "code",
   "execution_count": 43,
   "id": "9736c3b7",
   "metadata": {},
   "outputs": [
    {
     "data": {
      "text/html": [
       "<strong>png:</strong> 2"
      ],
      "text/latex": [
       "\\textbf{png:} 2"
      ],
      "text/markdown": [
       "**png:** 2"
      ],
      "text/plain": [
       "png \n",
       "  2 "
      ]
     },
     "metadata": {},
     "output_type": "display_data"
    }
   ],
   "source": [
    "pdf(\"Figure.pdf\")\n",
    "plot(x, y, col = \"blue\")\n",
    "dev.off()"
   ]
  },
  {
   "cell_type": "code",
   "execution_count": 44,
   "id": "10f7880a",
   "metadata": {},
   "outputs": [
    {
     "data": {
      "text/html": [
       "<ol class=list-inline>\n",
       "\t<li>1</li>\n",
       "\t<li>2</li>\n",
       "\t<li>3</li>\n",
       "\t<li>4</li>\n",
       "\t<li>5</li>\n",
       "\t<li>6</li>\n",
       "\t<li>7</li>\n",
       "\t<li>8</li>\n",
       "\t<li>9</li>\n",
       "\t<li>10</li>\n",
       "</ol>\n"
      ],
      "text/latex": [
       "\\begin{enumerate*}\n",
       "\\item 1\n",
       "\\item 2\n",
       "\\item 3\n",
       "\\item 4\n",
       "\\item 5\n",
       "\\item 6\n",
       "\\item 7\n",
       "\\item 8\n",
       "\\item 9\n",
       "\\item 10\n",
       "\\end{enumerate*}\n"
      ],
      "text/markdown": [
       "1. 1\n",
       "2. 2\n",
       "3. 3\n",
       "4. 4\n",
       "5. 5\n",
       "6. 6\n",
       "7. 7\n",
       "8. 8\n",
       "9. 9\n",
       "10. 10\n",
       "\n",
       "\n"
      ],
      "text/plain": [
       " [1]  1  2  3  4  5  6  7  8  9 10"
      ]
     },
     "metadata": {},
     "output_type": "display_data"
    },
    {
     "data": {
      "text/html": [
       "<ol class=list-inline>\n",
       "\t<li>1</li>\n",
       "\t<li>2</li>\n",
       "\t<li>3</li>\n",
       "\t<li>4</li>\n",
       "\t<li>5</li>\n",
       "\t<li>6</li>\n",
       "\t<li>7</li>\n",
       "\t<li>8</li>\n",
       "\t<li>9</li>\n",
       "\t<li>10</li>\n",
       "</ol>\n"
      ],
      "text/latex": [
       "\\begin{enumerate*}\n",
       "\\item 1\n",
       "\\item 2\n",
       "\\item 3\n",
       "\\item 4\n",
       "\\item 5\n",
       "\\item 6\n",
       "\\item 7\n",
       "\\item 8\n",
       "\\item 9\n",
       "\\item 10\n",
       "\\end{enumerate*}\n"
      ],
      "text/markdown": [
       "1. 1\n",
       "2. 2\n",
       "3. 3\n",
       "4. 4\n",
       "5. 5\n",
       "6. 6\n",
       "7. 7\n",
       "8. 8\n",
       "9. 9\n",
       "10. 10\n",
       "\n",
       "\n"
      ],
      "text/plain": [
       " [1]  1  2  3  4  5  6  7  8  9 10"
      ]
     },
     "metadata": {},
     "output_type": "display_data"
    },
    {
     "data": {
      "text/html": [
       "<ol class=list-inline>\n",
       "\t<li>-3.14159265358979</li>\n",
       "\t<li>-3.0133643820147</li>\n",
       "\t<li>-2.88513611043961</li>\n",
       "\t<li>-2.75690783886451</li>\n",
       "\t<li>-2.62867956728942</li>\n",
       "\t<li>-2.50045129571433</li>\n",
       "\t<li>-2.37222302413923</li>\n",
       "\t<li>-2.24399475256414</li>\n",
       "\t<li>-2.11576648098904</li>\n",
       "\t<li>-1.98753820941395</li>\n",
       "\t<li>-1.85930993783886</li>\n",
       "\t<li>-1.73108166626376</li>\n",
       "\t<li>-1.60285339468867</li>\n",
       "\t<li>-1.47462512311358</li>\n",
       "\t<li>-1.34639685153848</li>\n",
       "\t<li>-1.21816857996339</li>\n",
       "\t<li>-1.0899403083883</li>\n",
       "\t<li>-0.961712036813202</li>\n",
       "\t<li>-0.833483765238109</li>\n",
       "\t<li>-0.705255493663015</li>\n",
       "\t<li>-0.577027222087922</li>\n",
       "\t<li>-0.448798950512828</li>\n",
       "\t<li>-0.320570678937734</li>\n",
       "\t<li>-0.192342407362641</li>\n",
       "\t<li>-0.064114135787547</li>\n",
       "\t<li>0.0641141357875465</li>\n",
       "\t<li>0.19234240736264</li>\n",
       "\t<li>0.320570678937734</li>\n",
       "\t<li>0.448798950512828</li>\n",
       "\t<li>0.577027222087921</li>\n",
       "\t<li>0.705255493663015</li>\n",
       "\t<li>0.833483765238108</li>\n",
       "\t<li>0.961712036813202</li>\n",
       "\t<li>1.0899403083883</li>\n",
       "\t<li>1.21816857996339</li>\n",
       "\t<li>1.34639685153848</li>\n",
       "\t<li>1.47462512311358</li>\n",
       "\t<li>1.60285339468867</li>\n",
       "\t<li>1.73108166626376</li>\n",
       "\t<li>1.85930993783886</li>\n",
       "\t<li>1.98753820941395</li>\n",
       "\t<li>2.11576648098904</li>\n",
       "\t<li>2.24399475256414</li>\n",
       "\t<li>2.37222302413923</li>\n",
       "\t<li>2.50045129571433</li>\n",
       "\t<li>2.62867956728942</li>\n",
       "\t<li>2.75690783886451</li>\n",
       "\t<li>2.88513611043961</li>\n",
       "\t<li>3.0133643820147</li>\n",
       "\t<li>3.14159265358979</li>\n",
       "</ol>\n"
      ],
      "text/latex": [
       "\\begin{enumerate*}\n",
       "\\item -3.14159265358979\n",
       "\\item -3.0133643820147\n",
       "\\item -2.88513611043961\n",
       "\\item -2.75690783886451\n",
       "\\item -2.62867956728942\n",
       "\\item -2.50045129571433\n",
       "\\item -2.37222302413923\n",
       "\\item -2.24399475256414\n",
       "\\item -2.11576648098904\n",
       "\\item -1.98753820941395\n",
       "\\item -1.85930993783886\n",
       "\\item -1.73108166626376\n",
       "\\item -1.60285339468867\n",
       "\\item -1.47462512311358\n",
       "\\item -1.34639685153848\n",
       "\\item -1.21816857996339\n",
       "\\item -1.0899403083883\n",
       "\\item -0.961712036813202\n",
       "\\item -0.833483765238109\n",
       "\\item -0.705255493663015\n",
       "\\item -0.577027222087922\n",
       "\\item -0.448798950512828\n",
       "\\item -0.320570678937734\n",
       "\\item -0.192342407362641\n",
       "\\item -0.064114135787547\n",
       "\\item 0.0641141357875465\n",
       "\\item 0.19234240736264\n",
       "\\item 0.320570678937734\n",
       "\\item 0.448798950512828\n",
       "\\item 0.577027222087921\n",
       "\\item 0.705255493663015\n",
       "\\item 0.833483765238108\n",
       "\\item 0.961712036813202\n",
       "\\item 1.0899403083883\n",
       "\\item 1.21816857996339\n",
       "\\item 1.34639685153848\n",
       "\\item 1.47462512311358\n",
       "\\item 1.60285339468867\n",
       "\\item 1.73108166626376\n",
       "\\item 1.85930993783886\n",
       "\\item 1.98753820941395\n",
       "\\item 2.11576648098904\n",
       "\\item 2.24399475256414\n",
       "\\item 2.37222302413923\n",
       "\\item 2.50045129571433\n",
       "\\item 2.62867956728942\n",
       "\\item 2.75690783886451\n",
       "\\item 2.88513611043961\n",
       "\\item 3.0133643820147\n",
       "\\item 3.14159265358979\n",
       "\\end{enumerate*}\n"
      ],
      "text/markdown": [
       "1. -3.14159265358979\n",
       "2. -3.0133643820147\n",
       "3. -2.88513611043961\n",
       "4. -2.75690783886451\n",
       "5. -2.62867956728942\n",
       "6. -2.50045129571433\n",
       "7. -2.37222302413923\n",
       "8. -2.24399475256414\n",
       "9. -2.11576648098904\n",
       "10. -1.98753820941395\n",
       "11. -1.85930993783886\n",
       "12. -1.73108166626376\n",
       "13. -1.60285339468867\n",
       "14. -1.47462512311358\n",
       "15. -1.34639685153848\n",
       "16. -1.21816857996339\n",
       "17. -1.0899403083883\n",
       "18. -0.961712036813202\n",
       "19. -0.833483765238109\n",
       "20. -0.705255493663015\n",
       "21. -0.577027222087922\n",
       "22. -0.448798950512828\n",
       "23. -0.320570678937734\n",
       "24. -0.192342407362641\n",
       "25. -0.064114135787547\n",
       "26. 0.0641141357875465\n",
       "27. 0.19234240736264\n",
       "28. 0.320570678937734\n",
       "29. 0.448798950512828\n",
       "30. 0.577027222087921\n",
       "31. 0.705255493663015\n",
       "32. 0.833483765238108\n",
       "33. 0.961712036813202\n",
       "34. 1.0899403083883\n",
       "35. 1.21816857996339\n",
       "36. 1.34639685153848\n",
       "37. 1.47462512311358\n",
       "38. 1.60285339468867\n",
       "39. 1.73108166626376\n",
       "40. 1.85930993783886\n",
       "41. 1.98753820941395\n",
       "42. 2.11576648098904\n",
       "43. 2.24399475256414\n",
       "44. 2.37222302413923\n",
       "45. 2.50045129571433\n",
       "46. 2.62867956728942\n",
       "47. 2.75690783886451\n",
       "48. 2.88513611043961\n",
       "49. 3.0133643820147\n",
       "50. 3.14159265358979\n",
       "\n",
       "\n"
      ],
      "text/plain": [
       " [1] -3.14159265 -3.01336438 -2.88513611 -2.75690784 -2.62867957 -2.50045130\n",
       " [7] -2.37222302 -2.24399475 -2.11576648 -1.98753821 -1.85930994 -1.73108167\n",
       "[13] -1.60285339 -1.47462512 -1.34639685 -1.21816858 -1.08994031 -0.96171204\n",
       "[19] -0.83348377 -0.70525549 -0.57702722 -0.44879895 -0.32057068 -0.19234241\n",
       "[25] -0.06411414  0.06411414  0.19234241  0.32057068  0.44879895  0.57702722\n",
       "[31]  0.70525549  0.83348377  0.96171204  1.08994031  1.21816858  1.34639685\n",
       "[37]  1.47462512  1.60285339  1.73108167  1.85930994  1.98753821  2.11576648\n",
       "[43]  2.24399475  2.37222302  2.50045130  2.62867957  2.75690784  2.88513611\n",
       "[49]  3.01336438  3.14159265"
      ]
     },
     "metadata": {},
     "output_type": "display_data"
    }
   ],
   "source": [
    "x <- seq(1, 10)\n",
    "x\n",
    "x <- 1:10\n",
    "x\n",
    "x <- seq(-pi, pi, length = 50)\n",
    "x"
   ]
  },
  {
   "cell_type": "code",
   "execution_count": 47,
   "id": "0079bdb3",
   "metadata": {},
   "outputs": [
    {
     "data": {
      "image/png": "[encoded data removed]",
      "text/plain": [
       "plot without title"
      ]
     },
     "metadata": {},
     "output_type": "display_data"
    }
   ],
   "source": [
    "y <- x\n",
    "f <- outer(x, y, function(x, y) cos(y) / (1 + x^2))\n",
    "contour(x, y, f)\n",
    "contour(x, y, f, nlevels = 45, add = T)"
   ]
  },
  {
   "cell_type": "code",
   "execution_count": 48,
   "id": "557f97ca",
   "metadata": {},
   "outputs": [
    {
     "data": {
      "image/png": "[encoded data removed]",
      "text/plain": [
       "plot without title"
      ]
     },
     "metadata": {},
     "output_type": "display_data"
    }
   ],
   "source": [
    "fa <- (f - t(f)) / 2\n",
    "contour(x, y, fa , nlevels = 15)"
   ]
  },
  {
   "cell_type": "code",
   "execution_count": 49,
   "id": "5c9451a5",
   "metadata": {},
   "outputs": [
    {
     "data": {
      "image/png": "[encoded data removed]",
      "text/plain": [
       "plot without title"
      ]
     },
     "metadata": {},
     "output_type": "display_data"
    },
    {
     "data": {
      "image/png": "[encoded data removed]",
      "text/plain": [
       "plot without title"
      ]
     },
     "metadata": {},
     "output_type": "display_data"
    },
    {
     "data": {
      "image/png": "[encoded data removed]",
      "text/plain": [
       "plot without title"
      ]
     },
     "metadata": {},
     "output_type": "display_data"
    },
    {
     "data": {
      "image/png": "[encoded data removed]",
      "text/plain": [
       "plot without title"
      ]
     },
     "metadata": {},
     "output_type": "display_data"
    },
    {
     "data": {
      "image/png": "[encoded data removed]",
      "text/plain": [
       "plot without title"
      ]
     },
     "metadata": {},
     "output_type": "display_data"
    },
    {
     "data": {
      "image/png": "[encoded data removed]",
      "text/plain": [
       "plot without title"
      ]
     },
     "metadata": {},
     "output_type": "display_data"
    }
   ],
   "source": [
    "image(x, y, fa)\n",
    "persp(x, y, fa)\n",
    "persp(x, y, fa , theta = 30)\n",
    "persp(x, y, fa , theta = 30, phi = 20)\n",
    "persp(x, y, fa , theta = 30, phi = 70)\n",
    "persp(x, y, fa , theta = 30, phi = 40)"
   ]
  },
  {
   "cell_type": "code",
   "execution_count": 51,
   "id": "49f14994",
   "metadata": {},
   "outputs": [
    {
     "data": {
      "text/html": [
       "<table>\n",
       "<tbody>\n",
       "\t<tr><td>1 </td><td>5 </td><td> 9</td><td>13</td></tr>\n",
       "\t<tr><td>2 </td><td>6 </td><td>10</td><td>14</td></tr>\n",
       "\t<tr><td>3 </td><td>7 </td><td>11</td><td>15</td></tr>\n",
       "\t<tr><td>4 </td><td>8 </td><td>12</td><td>16</td></tr>\n",
       "</tbody>\n",
       "</table>\n"
      ],
      "text/latex": [
       "\\begin{tabular}{llll}\n",
       "\t 1  & 5  &  9 & 13\\\\\n",
       "\t 2  & 6  & 10 & 14\\\\\n",
       "\t 3  & 7  & 11 & 15\\\\\n",
       "\t 4  & 8  & 12 & 16\\\\\n",
       "\\end{tabular}\n"
      ],
      "text/markdown": [
       "\n",
       "| 1  | 5  |  9 | 13 |\n",
       "| 2  | 6  | 10 | 14 |\n",
       "| 3  | 7  | 11 | 15 |\n",
       "| 4  | 8  | 12 | 16 |\n",
       "\n"
      ],
      "text/plain": [
       "     [,1] [,2] [,3] [,4]\n",
       "[1,] 1    5     9   13  \n",
       "[2,] 2    6    10   14  \n",
       "[3,] 3    7    11   15  \n",
       "[4,] 4    8    12   16  "
      ]
     },
     "metadata": {},
     "output_type": "display_data"
    }
   ],
   "source": [
    "A <- matrix (1:16 , 4, 4)\n",
    "A"
   ]
  },
  {
   "cell_type": "code",
   "execution_count": 54,
   "id": "2ad210a4",
   "metadata": {},
   "outputs": [
    {
     "data": {
      "text/html": [
       "<table>\n",
       "<tbody>\n",
       "\t<tr><td>5 </td><td>13</td></tr>\n",
       "\t<tr><td>7 </td><td>15</td></tr>\n",
       "</tbody>\n",
       "</table>\n"
      ],
      "text/latex": [
       "\\begin{tabular}{ll}\n",
       "\t 5  & 13\\\\\n",
       "\t 7  & 15\\\\\n",
       "\\end{tabular}\n"
      ],
      "text/markdown": [
       "\n",
       "| 5  | 13 |\n",
       "| 7  | 15 |\n",
       "\n"
      ],
      "text/plain": [
       "     [,1] [,2]\n",
       "[1,] 5    13  \n",
       "[2,] 7    15  "
      ]
     },
     "metadata": {},
     "output_type": "display_data"
    },
    {
     "data": {
      "text/html": [
       "<table>\n",
       "<tbody>\n",
       "\t<tr><td>5 </td><td> 9</td><td>13</td></tr>\n",
       "\t<tr><td>6 </td><td>10</td><td>14</td></tr>\n",
       "\t<tr><td>7 </td><td>11</td><td>15</td></tr>\n",
       "</tbody>\n",
       "</table>\n"
      ],
      "text/latex": [
       "\\begin{tabular}{lll}\n",
       "\t 5  &  9 & 13\\\\\n",
       "\t 6  & 10 & 14\\\\\n",
       "\t 7  & 11 & 15\\\\\n",
       "\\end{tabular}\n"
      ],
      "text/markdown": [
       "\n",
       "| 5  |  9 | 13 |\n",
       "| 6  | 10 | 14 |\n",
       "| 7  | 11 | 15 |\n",
       "\n"
      ],
      "text/plain": [
       "     [,1] [,2] [,3]\n",
       "[1,] 5     9   13  \n",
       "[2,] 6    10   14  \n",
       "[3,] 7    11   15  "
      ]
     },
     "metadata": {},
     "output_type": "display_data"
    },
    {
     "data": {
      "text/html": [
       "<table>\n",
       "<tbody>\n",
       "\t<tr><td>1 </td><td>5 </td><td> 9</td><td>13</td></tr>\n",
       "\t<tr><td>2 </td><td>6 </td><td>10</td><td>14</td></tr>\n",
       "</tbody>\n",
       "</table>\n"
      ],
      "text/latex": [
       "\\begin{tabular}{llll}\n",
       "\t 1  & 5  &  9 & 13\\\\\n",
       "\t 2  & 6  & 10 & 14\\\\\n",
       "\\end{tabular}\n"
      ],
      "text/markdown": [
       "\n",
       "| 1  | 5  |  9 | 13 |\n",
       "| 2  | 6  | 10 | 14 |\n",
       "\n"
      ],
      "text/plain": [
       "     [,1] [,2] [,3] [,4]\n",
       "[1,] 1    5     9   13  \n",
       "[2,] 2    6    10   14  "
      ]
     },
     "metadata": {},
     "output_type": "display_data"
    },
    {
     "data": {
      "text/html": [
       "<table>\n",
       "<tbody>\n",
       "\t<tr><td>1</td><td>5</td></tr>\n",
       "\t<tr><td>2</td><td>6</td></tr>\n",
       "\t<tr><td>3</td><td>7</td></tr>\n",
       "\t<tr><td>4</td><td>8</td></tr>\n",
       "</tbody>\n",
       "</table>\n"
      ],
      "text/latex": [
       "\\begin{tabular}{ll}\n",
       "\t 1 & 5\\\\\n",
       "\t 2 & 6\\\\\n",
       "\t 3 & 7\\\\\n",
       "\t 4 & 8\\\\\n",
       "\\end{tabular}\n"
      ],
      "text/markdown": [
       "\n",
       "| 1 | 5 |\n",
       "| 2 | 6 |\n",
       "| 3 | 7 |\n",
       "| 4 | 8 |\n",
       "\n"
      ],
      "text/plain": [
       "     [,1] [,2]\n",
       "[1,] 1    5   \n",
       "[2,] 2    6   \n",
       "[3,] 3    7   \n",
       "[4,] 4    8   "
      ]
     },
     "metadata": {},
     "output_type": "display_data"
    },
    {
     "data": {
      "text/html": [
       "<ol class=list-inline>\n",
       "\t<li>1</li>\n",
       "\t<li>5</li>\n",
       "\t<li>9</li>\n",
       "\t<li>13</li>\n",
       "</ol>\n"
      ],
      "text/latex": [
       "\\begin{enumerate*}\n",
       "\\item 1\n",
       "\\item 5\n",
       "\\item 9\n",
       "\\item 13\n",
       "\\end{enumerate*}\n"
      ],
      "text/markdown": [
       "1. 1\n",
       "2. 5\n",
       "3. 9\n",
       "4. 13\n",
       "\n",
       "\n"
      ],
      "text/plain": [
       "[1]  1  5  9 13"
      ]
     },
     "metadata": {},
     "output_type": "display_data"
    }
   ],
   "source": [
    "A[c(1, 3), c(2, 4)]\n",
    "A[1:3, 2:4]\n",
    "A[1:2, ]\n",
    "A[,1:2 ]\n",
    "A[1, ]"
   ]
  },
  {
   "cell_type": "code",
   "execution_count": 55,
   "id": "d9660e66",
   "metadata": {},
   "outputs": [
    {
     "data": {
      "text/html": [
       "<table>\n",
       "<tbody>\n",
       "\t<tr><td>2 </td><td>6 </td><td>10</td><td>14</td></tr>\n",
       "\t<tr><td>4 </td><td>8 </td><td>12</td><td>16</td></tr>\n",
       "</tbody>\n",
       "</table>\n"
      ],
      "text/latex": [
       "\\begin{tabular}{llll}\n",
       "\t 2  & 6  & 10 & 14\\\\\n",
       "\t 4  & 8  & 12 & 16\\\\\n",
       "\\end{tabular}\n"
      ],
      "text/markdown": [
       "\n",
       "| 2  | 6  | 10 | 14 |\n",
       "| 4  | 8  | 12 | 16 |\n",
       "\n"
      ],
      "text/plain": [
       "     [,1] [,2] [,3] [,4]\n",
       "[1,] 2    6    10   14  \n",
       "[2,] 4    8    12   16  "
      ]
     },
     "metadata": {},
     "output_type": "display_data"
    },
    {
     "data": {
      "text/html": [
       "<ol class=list-inline>\n",
       "\t<li>6</li>\n",
       "\t<li>8</li>\n",
       "</ol>\n"
      ],
      "text/latex": [
       "\\begin{enumerate*}\n",
       "\\item 6\n",
       "\\item 8\n",
       "\\end{enumerate*}\n"
      ],
      "text/markdown": [
       "1. 6\n",
       "2. 8\n",
       "\n",
       "\n"
      ],
      "text/plain": [
       "[1] 6 8"
      ]
     },
     "metadata": {},
     "output_type": "display_data"
    }
   ],
   "source": [
    "A[-c(1, 3), ]\n",
    "A[-c(1, 3), -c(1, 3, 4)]"
   ]
  },
  {
   "cell_type": "code",
   "execution_count": 56,
   "id": "55da0c1e",
   "metadata": {},
   "outputs": [
    {
     "data": {
      "text/html": [
       "<ol class=list-inline>\n",
       "\t<li>4</li>\n",
       "\t<li>4</li>\n",
       "</ol>\n"
      ],
      "text/latex": [
       "\\begin{enumerate*}\n",
       "\\item 4\n",
       "\\item 4\n",
       "\\end{enumerate*}\n"
      ],
      "text/markdown": [
       "1. 4\n",
       "2. 4\n",
       "\n",
       "\n"
      ],
      "text/plain": [
       "[1] 4 4"
      ]
     },
     "metadata": {},
     "output_type": "display_data"
    }
   ],
   "source": [
    "dim(A)"
   ]
  },
  {
   "cell_type": "code",
   "execution_count": 81,
   "id": "16542f67",
   "metadata": {},
   "outputs": [
    {
     "data": {
      "text/html": [
       "<table>\n",
       "<thead><tr><th scope=col>Id</th><th scope=col>MSSubClass</th><th scope=col>MSZoning</th><th scope=col>LotFrontage</th><th scope=col>LotArea</th><th scope=col>Street</th><th scope=col>Alley</th><th scope=col>LotShape</th><th scope=col>LandContour</th><th scope=col>Utilities</th><th scope=col>...</th><th scope=col>PoolArea</th><th scope=col>PoolQC</th><th scope=col>Fence</th><th scope=col>MiscFeature</th><th scope=col>MiscVal</th><th scope=col>MoSold</th><th scope=col>YrSold</th><th scope=col>SaleType</th><th scope=col>SaleCondition</th><th scope=col>SalePrice</th></tr></thead>\n",
       "<tbody>\n",
       "\t<tr><td>1      </td><td>60     </td><td>RL     </td><td>65     </td><td> 8450  </td><td>Pave   </td><td>NA     </td><td>Reg    </td><td>Lvl    </td><td>AllPub </td><td>...    </td><td>0      </td><td>NA     </td><td>NA     </td><td>NA     </td><td>  0    </td><td> 2     </td><td>2008   </td><td>WD     </td><td>Normal </td><td>208500 </td></tr>\n",
       "\t<tr><td>2      </td><td>20     </td><td>RL     </td><td>80     </td><td> 9600  </td><td>Pave   </td><td>NA     </td><td>Reg    </td><td>Lvl    </td><td>AllPub </td><td>...    </td><td>0      </td><td>NA     </td><td>NA     </td><td>NA     </td><td>  0    </td><td> 5     </td><td>2007   </td><td>WD     </td><td>Normal </td><td>181500 </td></tr>\n",
       "\t<tr><td>3      </td><td>60     </td><td>RL     </td><td>68     </td><td>11250  </td><td>Pave   </td><td>NA     </td><td>IR1    </td><td>Lvl    </td><td>AllPub </td><td>...    </td><td>0      </td><td>NA     </td><td>NA     </td><td>NA     </td><td>  0    </td><td> 9     </td><td>2008   </td><td>WD     </td><td>Normal </td><td>223500 </td></tr>\n",
       "\t<tr><td>4      </td><td>70     </td><td>RL     </td><td>60     </td><td> 9550  </td><td>Pave   </td><td>NA     </td><td>IR1    </td><td>Lvl    </td><td>AllPub </td><td>...    </td><td>0      </td><td>NA     </td><td>NA     </td><td>NA     </td><td>  0    </td><td> 2     </td><td>2006   </td><td>WD     </td><td>Abnorml</td><td>140000 </td></tr>\n",
       "\t<tr><td>5      </td><td>60     </td><td>RL     </td><td>84     </td><td>14260  </td><td>Pave   </td><td>NA     </td><td>IR1    </td><td>Lvl    </td><td>AllPub </td><td>...    </td><td>0      </td><td>NA     </td><td>NA     </td><td>NA     </td><td>  0    </td><td>12     </td><td>2008   </td><td>WD     </td><td>Normal </td><td>250000 </td></tr>\n",
       "\t<tr><td>6      </td><td>50     </td><td>RL     </td><td>85     </td><td>14115  </td><td>Pave   </td><td>NA     </td><td>IR1    </td><td>Lvl    </td><td>AllPub </td><td>...    </td><td>0      </td><td>NA     </td><td>MnPrv  </td><td>Shed   </td><td>700    </td><td>10     </td><td>2009   </td><td>WD     </td><td>Normal </td><td>143000 </td></tr>\n",
       "</tbody>\n",
       "</table>\n"
      ],
      "text/latex": [
       "\\begin{tabular}{r|lllllllllllllllllllllllllllllllllllllllllllllllllllllllllllllllllllllllllllllllll}\n",
       " Id & MSSubClass & MSZoning & LotFrontage & LotArea & Street & Alley & LotShape & LandContour & Utilities & ... & PoolArea & PoolQC & Fence & MiscFeature & MiscVal & MoSold & YrSold & SaleType & SaleCondition & SalePrice\\\\\n",
       "\\hline\n",
       "\t 1       & 60      & RL      & 65      &  8450   & Pave    & NA      & Reg     & Lvl     & AllPub  & ...     & 0       & NA      & NA      & NA      &   0     &  2      & 2008    & WD      & Normal  & 208500 \\\\\n",
       "\t 2       & 20      & RL      & 80      &  9600   & Pave    & NA      & Reg     & Lvl     & AllPub  & ...     & 0       & NA      & NA      & NA      &   0     &  5      & 2007    & WD      & Normal  & 181500 \\\\\n",
       "\t 3       & 60      & RL      & 68      & 11250   & Pave    & NA      & IR1     & Lvl     & AllPub  & ...     & 0       & NA      & NA      & NA      &   0     &  9      & 2008    & WD      & Normal  & 223500 \\\\\n",
       "\t 4       & 70      & RL      & 60      &  9550   & Pave    & NA      & IR1     & Lvl     & AllPub  & ...     & 0       & NA      & NA      & NA      &   0     &  2      & 2006    & WD      & Abnorml & 140000 \\\\\n",
       "\t 5       & 60      & RL      & 84      & 14260   & Pave    & NA      & IR1     & Lvl     & AllPub  & ...     & 0       & NA      & NA      & NA      &   0     & 12      & 2008    & WD      & Normal  & 250000 \\\\\n",
       "\t 6       & 50      & RL      & 85      & 14115   & Pave    & NA      & IR1     & Lvl     & AllPub  & ...     & 0       & NA      & MnPrv   & Shed    & 700     & 10      & 2009    & WD      & Normal  & 143000 \\\\\n",
       "\\end{tabular}\n"
      ],
      "text/markdown": [
       "\n",
       "| Id | MSSubClass | MSZoning | LotFrontage | LotArea | Street | Alley | LotShape | LandContour | Utilities | ... | PoolArea | PoolQC | Fence | MiscFeature | MiscVal | MoSold | YrSold | SaleType | SaleCondition | SalePrice |\n",
       "|---|---|---|---|---|---|---|---|---|---|---|---|---|---|---|---|---|---|---|---|---|\n",
       "| 1       | 60      | RL      | 65      |  8450   | Pave    | NA      | Reg     | Lvl     | AllPub  | ...     | 0       | NA      | NA      | NA      |   0     |  2      | 2008    | WD      | Normal  | 208500  |\n",
       "| 2       | 20      | RL      | 80      |  9600   | Pave    | NA      | Reg     | Lvl     | AllPub  | ...     | 0       | NA      | NA      | NA      |   0     |  5      | 2007    | WD      | Normal  | 181500  |\n",
       "| 3       | 60      | RL      | 68      | 11250   | Pave    | NA      | IR1     | Lvl     | AllPub  | ...     | 0       | NA      | NA      | NA      |   0     |  9      | 2008    | WD      | Normal  | 223500  |\n",
       "| 4       | 70      | RL      | 60      |  9550   | Pave    | NA      | IR1     | Lvl     | AllPub  | ...     | 0       | NA      | NA      | NA      |   0     |  2      | 2006    | WD      | Abnorml | 140000  |\n",
       "| 5       | 60      | RL      | 84      | 14260   | Pave    | NA      | IR1     | Lvl     | AllPub  | ...     | 0       | NA      | NA      | NA      |   0     | 12      | 2008    | WD      | Normal  | 250000  |\n",
       "| 6       | 50      | RL      | 85      | 14115   | Pave    | NA      | IR1     | Lvl     | AllPub  | ...     | 0       | NA      | MnPrv   | Shed    | 700     | 10      | 2009    | WD      | Normal  | 143000  |\n",
       "\n"
      ],
      "text/plain": [
       "  Id MSSubClass MSZoning LotFrontage LotArea Street Alley LotShape LandContour\n",
       "1 1  60         RL       65           8450   Pave   NA    Reg      Lvl        \n",
       "2 2  20         RL       80           9600   Pave   NA    Reg      Lvl        \n",
       "3 3  60         RL       68          11250   Pave   NA    IR1      Lvl        \n",
       "4 4  70         RL       60           9550   Pave   NA    IR1      Lvl        \n",
       "5 5  60         RL       84          14260   Pave   NA    IR1      Lvl        \n",
       "6 6  50         RL       85          14115   Pave   NA    IR1      Lvl        \n",
       "  Utilities ... PoolArea PoolQC Fence MiscFeature MiscVal MoSold YrSold\n",
       "1 AllPub    ... 0        NA     NA    NA            0      2     2008  \n",
       "2 AllPub    ... 0        NA     NA    NA            0      5     2007  \n",
       "3 AllPub    ... 0        NA     NA    NA            0      9     2008  \n",
       "4 AllPub    ... 0        NA     NA    NA            0      2     2006  \n",
       "5 AllPub    ... 0        NA     NA    NA            0     12     2008  \n",
       "6 AllPub    ... 0        NA     MnPrv Shed        700     10     2009  \n",
       "  SaleType SaleCondition SalePrice\n",
       "1 WD       Normal        208500   \n",
       "2 WD       Normal        181500   \n",
       "3 WD       Normal        223500   \n",
       "4 WD       Abnorml       140000   \n",
       "5 WD       Normal        250000   \n",
       "6 WD       Normal        143000   "
      ]
     },
     "metadata": {},
     "output_type": "display_data"
    },
    {
     "data": {
      "text/html": [
       "<ol class=list-inline>\n",
       "\t<li>1460</li>\n",
       "\t<li>81</li>\n",
       "</ol>\n"
      ],
      "text/latex": [
       "\\begin{enumerate*}\n",
       "\\item 1460\n",
       "\\item 81\n",
       "\\end{enumerate*}\n"
      ],
      "text/markdown": [
       "1. 1460\n",
       "2. 81\n",
       "\n",
       "\n"
      ],
      "text/plain": [
       "[1] 1460   81"
      ]
     },
     "metadata": {},
     "output_type": "display_data"
    }
   ],
   "source": [
    "Auto <- read.csv(\"train.csv\", na.strings = \"?\",stringsAsFactors = T)\n",
    "head(Auto)\n",
    "dim(Auto)"
   ]
  },
  {
   "cell_type": "code",
   "execution_count": 80,
   "id": "8877c9a4",
   "metadata": {},
   "outputs": [
    {
     "data": {
      "text/html": [
       "<ol class=list-inline>\n",
       "\t<li>1459</li>\n",
       "\t<li>80</li>\n",
       "</ol>\n"
      ],
      "text/latex": [
       "\\begin{enumerate*}\n",
       "\\item 1459\n",
       "\\item 80\n",
       "\\end{enumerate*}\n"
      ],
      "text/markdown": [
       "1. 1459\n",
       "2. 80\n",
       "\n",
       "\n"
      ],
      "text/plain": [
       "[1] 1459   80"
      ]
     },
     "metadata": {},
     "output_type": "display_data"
    }
   ],
   "source": [
    "Auto <- na.omit(Auto)\n",
    "dim(Auto)"
   ]
  },
  {
   "cell_type": "code",
   "execution_count": 82,
   "id": "2142f0e0",
   "metadata": {},
   "outputs": [
    {
     "data": {
      "text/html": [
       "<ol class=list-inline>\n",
       "\t<li>'Id'</li>\n",
       "\t<li>'MSSubClass'</li>\n",
       "\t<li>'MSZoning'</li>\n",
       "\t<li>'LotFrontage'</li>\n",
       "\t<li>'LotArea'</li>\n",
       "\t<li>'Street'</li>\n",
       "\t<li>'Alley'</li>\n",
       "\t<li>'LotShape'</li>\n",
       "\t<li>'LandContour'</li>\n",
       "\t<li>'Utilities'</li>\n",
       "\t<li>'LotConfig'</li>\n",
       "\t<li>'LandSlope'</li>\n",
       "\t<li>'Neighborhood'</li>\n",
       "\t<li>'Condition1'</li>\n",
       "\t<li>'Condition2'</li>\n",
       "\t<li>'BldgType'</li>\n",
       "\t<li>'HouseStyle'</li>\n",
       "\t<li>'OverallQual'</li>\n",
       "\t<li>'OverallCond'</li>\n",
       "\t<li>'YearBuilt'</li>\n",
       "\t<li>'YearRemodAdd'</li>\n",
       "\t<li>'RoofStyle'</li>\n",
       "\t<li>'RoofMatl'</li>\n",
       "\t<li>'Exterior1st'</li>\n",
       "\t<li>'Exterior2nd'</li>\n",
       "\t<li>'MasVnrType'</li>\n",
       "\t<li>'MasVnrArea'</li>\n",
       "\t<li>'ExterQual'</li>\n",
       "\t<li>'ExterCond'</li>\n",
       "\t<li>'Foundation'</li>\n",
       "\t<li>'BsmtQual'</li>\n",
       "\t<li>'BsmtCond'</li>\n",
       "\t<li>'BsmtExposure'</li>\n",
       "\t<li>'BsmtFinType1'</li>\n",
       "\t<li>'BsmtFinSF1'</li>\n",
       "\t<li>'BsmtFinType2'</li>\n",
       "\t<li>'BsmtFinSF2'</li>\n",
       "\t<li>'BsmtUnfSF'</li>\n",
       "\t<li>'TotalBsmtSF'</li>\n",
       "\t<li>'Heating'</li>\n",
       "\t<li>'HeatingQC'</li>\n",
       "\t<li>'CentralAir'</li>\n",
       "\t<li>'Electrical'</li>\n",
       "\t<li>'X1stFlrSF'</li>\n",
       "\t<li>'X2ndFlrSF'</li>\n",
       "\t<li>'LowQualFinSF'</li>\n",
       "\t<li>'GrLivArea'</li>\n",
       "\t<li>'BsmtFullBath'</li>\n",
       "\t<li>'BsmtHalfBath'</li>\n",
       "\t<li>'FullBath'</li>\n",
       "\t<li>'HalfBath'</li>\n",
       "\t<li>'BedroomAbvGr'</li>\n",
       "\t<li>'KitchenAbvGr'</li>\n",
       "\t<li>'KitchenQual'</li>\n",
       "\t<li>'TotRmsAbvGrd'</li>\n",
       "\t<li>'Functional'</li>\n",
       "\t<li>'Fireplaces'</li>\n",
       "\t<li>'FireplaceQu'</li>\n",
       "\t<li>'GarageType'</li>\n",
       "\t<li>'GarageYrBlt'</li>\n",
       "\t<li>'GarageFinish'</li>\n",
       "\t<li>'GarageCars'</li>\n",
       "\t<li>'GarageArea'</li>\n",
       "\t<li>'GarageQual'</li>\n",
       "\t<li>'GarageCond'</li>\n",
       "\t<li>'PavedDrive'</li>\n",
       "\t<li>'WoodDeckSF'</li>\n",
       "\t<li>'OpenPorchSF'</li>\n",
       "\t<li>'EnclosedPorch'</li>\n",
       "\t<li>'X3SsnPorch'</li>\n",
       "\t<li>'ScreenPorch'</li>\n",
       "\t<li>'PoolArea'</li>\n",
       "\t<li>'PoolQC'</li>\n",
       "\t<li>'Fence'</li>\n",
       "\t<li>'MiscFeature'</li>\n",
       "\t<li>'MiscVal'</li>\n",
       "\t<li>'MoSold'</li>\n",
       "\t<li>'YrSold'</li>\n",
       "\t<li>'SaleType'</li>\n",
       "\t<li>'SaleCondition'</li>\n",
       "\t<li>'SalePrice'</li>\n",
       "</ol>\n"
      ],
      "text/latex": [
       "\\begin{enumerate*}\n",
       "\\item 'Id'\n",
       "\\item 'MSSubClass'\n",
       "\\item 'MSZoning'\n",
       "\\item 'LotFrontage'\n",
       "\\item 'LotArea'\n",
       "\\item 'Street'\n",
       "\\item 'Alley'\n",
       "\\item 'LotShape'\n",
       "\\item 'LandContour'\n",
       "\\item 'Utilities'\n",
       "\\item 'LotConfig'\n",
       "\\item 'LandSlope'\n",
       "\\item 'Neighborhood'\n",
       "\\item 'Condition1'\n",
       "\\item 'Condition2'\n",
       "\\item 'BldgType'\n",
       "\\item 'HouseStyle'\n",
       "\\item 'OverallQual'\n",
       "\\item 'OverallCond'\n",
       "\\item 'YearBuilt'\n",
       "\\item 'YearRemodAdd'\n",
       "\\item 'RoofStyle'\n",
       "\\item 'RoofMatl'\n",
       "\\item 'Exterior1st'\n",
       "\\item 'Exterior2nd'\n",
       "\\item 'MasVnrType'\n",
       "\\item 'MasVnrArea'\n",
       "\\item 'ExterQual'\n",
       "\\item 'ExterCond'\n",
       "\\item 'Foundation'\n",
       "\\item 'BsmtQual'\n",
       "\\item 'BsmtCond'\n",
       "\\item 'BsmtExposure'\n",
       "\\item 'BsmtFinType1'\n",
       "\\item 'BsmtFinSF1'\n",
       "\\item 'BsmtFinType2'\n",
       "\\item 'BsmtFinSF2'\n",
       "\\item 'BsmtUnfSF'\n",
       "\\item 'TotalBsmtSF'\n",
       "\\item 'Heating'\n",
       "\\item 'HeatingQC'\n",
       "\\item 'CentralAir'\n",
       "\\item 'Electrical'\n",
       "\\item 'X1stFlrSF'\n",
       "\\item 'X2ndFlrSF'\n",
       "\\item 'LowQualFinSF'\n",
       "\\item 'GrLivArea'\n",
       "\\item 'BsmtFullBath'\n",
       "\\item 'BsmtHalfBath'\n",
       "\\item 'FullBath'\n",
       "\\item 'HalfBath'\n",
       "\\item 'BedroomAbvGr'\n",
       "\\item 'KitchenAbvGr'\n",
       "\\item 'KitchenQual'\n",
       "\\item 'TotRmsAbvGrd'\n",
       "\\item 'Functional'\n",
       "\\item 'Fireplaces'\n",
       "\\item 'FireplaceQu'\n",
       "\\item 'GarageType'\n",
       "\\item 'GarageYrBlt'\n",
       "\\item 'GarageFinish'\n",
       "\\item 'GarageCars'\n",
       "\\item 'GarageArea'\n",
       "\\item 'GarageQual'\n",
       "\\item 'GarageCond'\n",
       "\\item 'PavedDrive'\n",
       "\\item 'WoodDeckSF'\n",
       "\\item 'OpenPorchSF'\n",
       "\\item 'EnclosedPorch'\n",
       "\\item 'X3SsnPorch'\n",
       "\\item 'ScreenPorch'\n",
       "\\item 'PoolArea'\n",
       "\\item 'PoolQC'\n",
       "\\item 'Fence'\n",
       "\\item 'MiscFeature'\n",
       "\\item 'MiscVal'\n",
       "\\item 'MoSold'\n",
       "\\item 'YrSold'\n",
       "\\item 'SaleType'\n",
       "\\item 'SaleCondition'\n",
       "\\item 'SalePrice'\n",
       "\\end{enumerate*}\n"
      ],
      "text/markdown": [
       "1. 'Id'\n",
       "2. 'MSSubClass'\n",
       "3. 'MSZoning'\n",
       "4. 'LotFrontage'\n",
       "5. 'LotArea'\n",
       "6. 'Street'\n",
       "7. 'Alley'\n",
       "8. 'LotShape'\n",
       "9. 'LandContour'\n",
       "10. 'Utilities'\n",
       "11. 'LotConfig'\n",
       "12. 'LandSlope'\n",
       "13. 'Neighborhood'\n",
       "14. 'Condition1'\n",
       "15. 'Condition2'\n",
       "16. 'BldgType'\n",
       "17. 'HouseStyle'\n",
       "18. 'OverallQual'\n",
       "19. 'OverallCond'\n",
       "20. 'YearBuilt'\n",
       "21. 'YearRemodAdd'\n",
       "22. 'RoofStyle'\n",
       "23. 'RoofMatl'\n",
       "24. 'Exterior1st'\n",
       "25. 'Exterior2nd'\n",
       "26. 'MasVnrType'\n",
       "27. 'MasVnrArea'\n",
       "28. 'ExterQual'\n",
       "29. 'ExterCond'\n",
       "30. 'Foundation'\n",
       "31. 'BsmtQual'\n",
       "32. 'BsmtCond'\n",
       "33. 'BsmtExposure'\n",
       "34. 'BsmtFinType1'\n",
       "35. 'BsmtFinSF1'\n",
       "36. 'BsmtFinType2'\n",
       "37. 'BsmtFinSF2'\n",
       "38. 'BsmtUnfSF'\n",
       "39. 'TotalBsmtSF'\n",
       "40. 'Heating'\n",
       "41. 'HeatingQC'\n",
       "42. 'CentralAir'\n",
       "43. 'Electrical'\n",
       "44. 'X1stFlrSF'\n",
       "45. 'X2ndFlrSF'\n",
       "46. 'LowQualFinSF'\n",
       "47. 'GrLivArea'\n",
       "48. 'BsmtFullBath'\n",
       "49. 'BsmtHalfBath'\n",
       "50. 'FullBath'\n",
       "51. 'HalfBath'\n",
       "52. 'BedroomAbvGr'\n",
       "53. 'KitchenAbvGr'\n",
       "54. 'KitchenQual'\n",
       "55. 'TotRmsAbvGrd'\n",
       "56. 'Functional'\n",
       "57. 'Fireplaces'\n",
       "58. 'FireplaceQu'\n",
       "59. 'GarageType'\n",
       "60. 'GarageYrBlt'\n",
       "61. 'GarageFinish'\n",
       "62. 'GarageCars'\n",
       "63. 'GarageArea'\n",
       "64. 'GarageQual'\n",
       "65. 'GarageCond'\n",
       "66. 'PavedDrive'\n",
       "67. 'WoodDeckSF'\n",
       "68. 'OpenPorchSF'\n",
       "69. 'EnclosedPorch'\n",
       "70. 'X3SsnPorch'\n",
       "71. 'ScreenPorch'\n",
       "72. 'PoolArea'\n",
       "73. 'PoolQC'\n",
       "74. 'Fence'\n",
       "75. 'MiscFeature'\n",
       "76. 'MiscVal'\n",
       "77. 'MoSold'\n",
       "78. 'YrSold'\n",
       "79. 'SaleType'\n",
       "80. 'SaleCondition'\n",
       "81. 'SalePrice'\n",
       "\n",
       "\n"
      ],
      "text/plain": [
       " [1] \"Id\"            \"MSSubClass\"    \"MSZoning\"      \"LotFrontage\"  \n",
       " [5] \"LotArea\"       \"Street\"        \"Alley\"         \"LotShape\"     \n",
       " [9] \"LandContour\"   \"Utilities\"     \"LotConfig\"     \"LandSlope\"    \n",
       "[13] \"Neighborhood\"  \"Condition1\"    \"Condition2\"    \"BldgType\"     \n",
       "[17] \"HouseStyle\"    \"OverallQual\"   \"OverallCond\"   \"YearBuilt\"    \n",
       "[21] \"YearRemodAdd\"  \"RoofStyle\"     \"RoofMatl\"      \"Exterior1st\"  \n",
       "[25] \"Exterior2nd\"   \"MasVnrType\"    \"MasVnrArea\"    \"ExterQual\"    \n",
       "[29] \"ExterCond\"     \"Foundation\"    \"BsmtQual\"      \"BsmtCond\"     \n",
       "[33] \"BsmtExposure\"  \"BsmtFinType1\"  \"BsmtFinSF1\"    \"BsmtFinType2\" \n",
       "[37] \"BsmtFinSF2\"    \"BsmtUnfSF\"     \"TotalBsmtSF\"   \"Heating\"      \n",
       "[41] \"HeatingQC\"     \"CentralAir\"    \"Electrical\"    \"X1stFlrSF\"    \n",
       "[45] \"X2ndFlrSF\"     \"LowQualFinSF\"  \"GrLivArea\"     \"BsmtFullBath\" \n",
       "[49] \"BsmtHalfBath\"  \"FullBath\"      \"HalfBath\"      \"BedroomAbvGr\" \n",
       "[53] \"KitchenAbvGr\"  \"KitchenQual\"   \"TotRmsAbvGrd\"  \"Functional\"   \n",
       "[57] \"Fireplaces\"    \"FireplaceQu\"   \"GarageType\"    \"GarageYrBlt\"  \n",
       "[61] \"GarageFinish\"  \"GarageCars\"    \"GarageArea\"    \"GarageQual\"   \n",
       "[65] \"GarageCond\"    \"PavedDrive\"    \"WoodDeckSF\"    \"OpenPorchSF\"  \n",
       "[69] \"EnclosedPorch\" \"X3SsnPorch\"    \"ScreenPorch\"   \"PoolArea\"     \n",
       "[73] \"PoolQC\"        \"Fence\"         \"MiscFeature\"   \"MiscVal\"      \n",
       "[77] \"MoSold\"        \"YrSold\"        \"SaleType\"      \"SaleCondition\"\n",
       "[81] \"SalePrice\"    "
      ]
     },
     "metadata": {},
     "output_type": "display_data"
    }
   ],
   "source": [
    "names(Auto)"
   ]
  },
  {
   "cell_type": "code",
   "execution_count": 84,
   "id": "b319312b",
   "metadata": {},
   "outputs": [
    {
     "data": {
      "image/png": "[encoded data removed]",
      "text/plain": [
       "plot without title"
      ]
     },
     "metadata": {},
     "output_type": "display_data"
    }
   ],
   "source": [
    "plot(Auto$GrLivArea , Auto$SalePrice)"
   ]
  },
  {
   "cell_type": "code",
   "execution_count": 85,
   "id": "75448fcf",
   "metadata": {},
   "outputs": [
    {
     "data": {
      "image/png": "[encoded data removed]",
      "text/plain": [
       "plot without title"
      ]
     },
     "metadata": {},
     "output_type": "display_data"
    }
   ],
   "source": [
    "attach(Auto)\n",
    "plot(GrLivArea , SalePrice)"
   ]
  },
  {
   "cell_type": "code",
   "execution_count": 90,
   "id": "e9a2aa7d",
   "metadata": {},
   "outputs": [
    {
     "data": {
      "image/png": "[encoded data removed]",
      "text/plain": [
       "plot without title"
      ]
     },
     "metadata": {},
     "output_type": "display_data"
    }
   ],
   "source": [
    "GrLivArea <- as.factor(GrLivArea)\n",
    "\n",
    "plot(GrLivArea , SalePrice)"
   ]
  },
  {
   "cell_type": "code",
   "execution_count": 91,
   "id": "6128d4e8",
   "metadata": {},
   "outputs": [
    {
     "data": {
      "image/png": "[encoded data removed]",
      "text/plain": [
       "plot without title"
      ]
     },
     "metadata": {},
     "output_type": "display_data"
    }
   ],
   "source": [
    "plot(GrLivArea , SalePrice, col = \"red\")"
   ]
  },
  {
   "cell_type": "code",
   "execution_count": 92,
   "id": "3f09daf6",
   "metadata": {},
   "outputs": [
    {
     "data": {
      "image/png": "[encoded data removed]",
      "text/plain": [
       "plot without title"
      ]
     },
     "metadata": {},
     "output_type": "display_data"
    }
   ],
   "source": [
    "plot(GrLivArea , SalePrice, col = \"red\", varwidth = T)"
   ]
  },
  {
   "cell_type": "code",
   "execution_count": 93,
   "id": "430fc4d5",
   "metadata": {},
   "outputs": [
    {
     "data": {
      "image/png": "[encoded data removed]",
      "text/plain": [
       "plot without title"
      ]
     },
     "metadata": {},
     "output_type": "display_data"
    }
   ],
   "source": [
    "plot(GrLivArea , SalePrice, col = \"red\", varwidth = T, horizontal = T)"
   ]
  },
  {
   "cell_type": "code",
   "execution_count": 94,
   "id": "269072f6",
   "metadata": {},
   "outputs": [
    {
     "data": {
      "image/png": "[encoded data removed]",
      "text/plain": [
       "plot without title"
      ]
     },
     "metadata": {},
     "output_type": "display_data"
    }
   ],
   "source": [
    "plot(GrLivArea , SalePrice, col = \"red\", varwidth = T, xlab = \"cylinders\", ylab = \"MPG\")"
   ]
  },
  {
   "cell_type": "code",
   "execution_count": 96,
   "id": "1a907a18",
   "metadata": {},
   "outputs": [
    {
     "data": {
      "image/png": "[encoded data removed]",
      "text/plain": [
       "Plot with title \"Histogram of SalePrice\""
      ]
     },
     "metadata": {},
     "output_type": "display_data"
    }
   ],
   "source": [
    "hist(SalePrice)"
   ]
  },
  {
   "cell_type": "code",
   "execution_count": 97,
   "id": "7ef387fa",
   "metadata": {},
   "outputs": [
    {
     "data": {
      "image/png": "[encoded data removed]",
      "text/plain": [
       "Plot with title \"Histogram of SalePrice\""
      ]
     },
     "metadata": {},
     "output_type": "display_data"
    }
   ],
   "source": [
    "hist(SalePrice , col = 2)"
   ]
  },
  {
   "cell_type": "code",
   "execution_count": 101,
   "id": "bca2fc9f",
   "metadata": {},
   "outputs": [
    {
     "data": {
      "image/png": "[encoded data removed]",
      "text/plain": [
       "Plot with title \"Histogram of SalePrice\""
      ]
     },
     "metadata": {},
     "output_type": "display_data"
    }
   ],
   "source": [
    "hist(SalePrice , col = 16, breaks = 15)"
   ]
  },
  {
   "cell_type": "code",
   "execution_count": 102,
   "id": "e459b273",
   "metadata": {},
   "outputs": [
    {
     "ename": "ERROR",
     "evalue": "Error in plot.new(): figure margins too large\n",
     "output_type": "error",
     "traceback": [
      "Error in plot.new(): figure margins too large\nTraceback:\n",
      "1. pairs(Auto)",
      "2. pairs.default(Auto)",
      "3. localPlot(x[, j], x[, i], xlab = \"\", ylab = \"\", axes = FALSE, \n .     type = \"n\", ..., log = l)",
      "4. plot(...)",
      "5. plot.default(...)",
      "6. plot.new()"
     ]
    }
   ],
   "source": [
    "pairs(Auto)"
   ]
  },
  {
   "cell_type": "code",
   "execution_count": 107,
   "id": "3fa24607",
   "metadata": {},
   "outputs": [
    {
     "data": {
      "text/html": [],
      "text/latex": [],
      "text/markdown": [],
      "text/plain": [
       "integer(0)"
      ]
     },
     "metadata": {},
     "output_type": "display_data"
    },
    {
     "data": {
      "image/png": "[encoded data removed]",
      "text/plain": [
       "plot without title"
      ]
     },
     "metadata": {},
     "output_type": "display_data"
    }
   ],
   "source": [
    "plot(GrLivArea , SalePrice)\n",
    "identify(GrLivArea , SalePrice)"
   ]
  },
  {
   "cell_type": "code",
   "execution_count": 109,
   "id": "870a9a0f",
   "metadata": {},
   "outputs": [
    {
     "data": {
      "text/plain": [
       "   Min. 1st Qu.  Median    Mean 3rd Qu.    Max. \n",
       "  34900  129975  163000  180921  214000  755000 "
      ]
     },
     "metadata": {},
     "output_type": "display_data"
    }
   ],
   "source": [
    "summary(SalePrice)"
   ]
  },
  {
   "cell_type": "code",
   "execution_count": null,
   "id": "1619ee1a",
   "metadata": {},
   "outputs": [],
   "source": []
  }
 ],
 "metadata": {
  "kernelspec": {
   "display_name": "R",
   "language": "R",
   "name": "ir"
  },
  "language_info": {
   "codemirror_mode": "r",
   "file_extension": ".r",
   "mimetype": "text/x-r-source",
   "name": "R",
   "pygments_lexer": "r",
   "version": "3.6.1"
  }
 },
 "nbformat": 4,
 "nbformat_minor": 5
}
